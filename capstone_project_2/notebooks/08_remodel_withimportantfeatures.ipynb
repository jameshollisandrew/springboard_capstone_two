{
 "cells": [
  {
   "cell_type": "markdown",
   "metadata": {},
   "source": [
    "# 08: Some Final Modeling"
   ]
  },
  {
   "cell_type": "markdown",
   "metadata": {},
   "source": [
    "### Imported Libraries"
   ]
  },
  {
   "cell_type": "code",
   "execution_count": 1,
   "metadata": {},
   "outputs": [
    {
     "name": "stdout",
     "output_type": "stream",
     "text": [
      "Python version: 3.8.8 (default, Feb 24 2021, 15:54:32) [MSC v.1928 64 bit (AMD64)]\n",
      "\tCounter imported.\n",
      "\n",
      "Data Management Libraries\n",
      "\tpandas version: 1.2.3\n",
      "\tnumpy version: 1.19.2\n",
      "\tregex version: 2.5.91\n",
      "\n",
      "Visualization Libraries\n",
      "\tmatplotlib version: 3.3.4\n",
      "\tseaborn version: 0.11.1\n",
      "\n",
      "Modeling Libraries\n",
      "\timblearn version: 0.8.0\n",
      "\tsklearn version: 0.24.1\n"
     ]
    }
   ],
   "source": [
    "import sys\n",
    "print('Python version: %s' % (sys.version))\n",
    "from collections import Counter\n",
    "print('\\tCounter imported.')\n",
    "\n",
    "# data management\n",
    "print('\\nData Management Libraries')\n",
    "import pandas as pd\n",
    "print('\\tpandas version: %s' % (pd.__version__))\n",
    "import numpy as np\n",
    "print('\\tnumpy version: %s' % (np.__version__))\n",
    "import regex as re\n",
    "print('\\tregex version: %s' % (re.__version__))\n",
    "\n",
    "# visualizing\n",
    "print('\\nVisualization Libraries')\n",
    "from matplotlib import pyplot as plt\n",
    "import matplotlib\n",
    "print('\\tmatplotlib version: %s' % (matplotlib.__version__))\n",
    "import seaborn as sns\n",
    "print('\\tseaborn version: %s' % (sns.__version__))\n",
    "\n",
    "# modeling\n",
    "print('\\nModeling Libraries')\n",
    "import imblearn\n",
    "print('\\timblearn version: %s' % imblearn.__version__)\n",
    "from imblearn.over_sampling import RandomOverSampler\n",
    "from imblearn.pipeline import make_pipeline\n",
    "from imblearn.over_sampling import SMOTE\n",
    "from imblearn.combine import SMOTETomek\n",
    "import sklearn\n",
    "print('\\tsklearn version: %s' % sklearn.__version__)\n",
    "from sklearn import preprocessing\n",
    "from sklearn.model_selection import train_test_split\n",
    "from sklearn.linear_model import LogisticRegression\n",
    "from sklearn.model_selection import KFold, GridSearchCV\n",
    "from sklearn.ensemble import RandomForestClassifier\n",
    "from imblearn.ensemble import EasyEnsembleClassifier\n",
    "from sklearn.ensemble import GradientBoostingClassifier\n",
    "from sklearn.metrics import accuracy_score, precision_score, recall_score, f1_score\n",
    "from sklearn.metrics import confusion_matrix, classification_report\n",
    "from sklearn.metrics import plot_roc_curve, roc_curve, roc_auc_score\n",
    "from sklearn.metrics import plot_precision_recall_curve, precision_recall_curve\n",
    "from sklearn.metrics import plot_confusion_matrix"
   ]
  },
  {
   "cell_type": "markdown",
   "metadata": {},
   "source": [
    "### Update Library Settings"
   ]
  },
  {
   "cell_type": "code",
   "execution_count": 2,
   "metadata": {},
   "outputs": [],
   "source": [
    "# set random state for reproducibility\n",
    "random_state = 42\n",
    "\n",
    "# default numpy settings\n",
    "np.set_printoptions(edgeitems=3)\n",
    "np.core.arrayprint._line_width = 80\n",
    "\n",
    "# update settings\n",
    "np.set_printoptions(edgeitems=15, linewidth=100000, \n",
    "    formatter=dict(float=lambda x: \"%.3g\" % x))\n",
    "\n",
    "# update pandas settings\n",
    "pd.options.display.max_columns = 20\n",
    "pd.set_option('max_colwidth', 100) # sets the max number of columns before truncating with an ellipse\n",
    "pd.options.display.max_rows = 500\n",
    "pd.set_option('precision',6)"
   ]
  },
  {
   "cell_type": "markdown",
   "metadata": {},
   "source": [
    "### Helper Functions"
   ]
  },
  {
   "cell_type": "code",
   "execution_count": 3,
   "metadata": {},
   "outputs": [],
   "source": [
    "def generate_model_report(y_actual, y_predicted):\n",
    "    print(\"Accuracy\\t= %.2f\" % (accuracy_score(y_actual, y_predicted)))\n",
    "    print(\"Precision\\t= %.2f\" % (precision_score(y_actual, y_predicted)))\n",
    "    print(\"Recall\\t\\t= %.2f\" % (recall_score(y_actual, y_predicted)))\n",
    "    print(\"F1 Score\\t= %.2f\" % (f1_score(y_actual, y_predicted)))\n",
    "    pass\n",
    "    \n",
    "def plot_feature_correlation_heatmap(df,title,xsize,ysize):\n",
    "    fig, ax = plt.subplots(1,1,figsize=(xsize,ysize))\n",
    "    corr=df.corr()\n",
    "    sns.heatmap(corr,cmap='coolwarm_r',annot_kws={'size':20},ax=ax)\n",
    "    ax.set_title(title,fontsize=14)\n",
    "    plt.show()\n",
    "    \n",
    "def plot_cmat_prc_roc(clf,X_test,y_test,title):\n",
    "    fig, ax = plt.subplots(1,3,figsize=(16,4.5))\n",
    "    fig.suptitle(title,fontsize=14)\n",
    "    plot_confusion_matrix(clf,X_test,y_test,ax=ax[0],cmap='Greys',colorbar=False) \n",
    "    ax[0].set_title('Confusion Matrix')\n",
    "    plot_roc_curve(clf,X_test,y_test,ax=ax[1])\n",
    "    ax[1].set_title('ROC Curve')\n",
    "    plot_precision_recall_curve(clf,X_test,y_test,ax=ax[2])\n",
    "    ax[2].set_title('Precision-Recall Curve')\n",
    "    plt.show()"
   ]
  },
  {
   "cell_type": "markdown",
   "metadata": {},
   "source": [
    "### Import Dataframe"
   ]
  },
  {
   "cell_type": "code",
   "execution_count": 4,
   "metadata": {},
   "outputs": [],
   "source": [
    "df = pd.read_csv('../data/creditcard_03_notScaled.csv')"
   ]
  },
  {
   "cell_type": "code",
   "execution_count": 5,
   "metadata": {},
   "outputs": [
    {
     "data": {
      "text/plain": [
       "(284807, 31)"
      ]
     },
     "execution_count": 5,
     "metadata": {},
     "output_type": "execute_result"
    }
   ],
   "source": [
    "df.shape"
   ]
  },
  {
   "cell_type": "code",
   "execution_count": 6,
   "metadata": {},
   "outputs": [
    {
     "data": {
      "text/html": [
       "<div>\n",
       "<style scoped>\n",
       "    .dataframe tbody tr th:only-of-type {\n",
       "        vertical-align: middle;\n",
       "    }\n",
       "\n",
       "    .dataframe tbody tr th {\n",
       "        vertical-align: top;\n",
       "    }\n",
       "\n",
       "    .dataframe thead th {\n",
       "        text-align: right;\n",
       "    }\n",
       "</style>\n",
       "<table border=\"1\" class=\"dataframe\">\n",
       "  <thead>\n",
       "    <tr style=\"text-align: right;\">\n",
       "      <th></th>\n",
       "      <th>Time_DayAware</th>\n",
       "      <th>Amount</th>\n",
       "      <th>V1</th>\n",
       "      <th>V2</th>\n",
       "      <th>V3</th>\n",
       "      <th>V4</th>\n",
       "      <th>V5</th>\n",
       "      <th>V6</th>\n",
       "      <th>V7</th>\n",
       "      <th>V8</th>\n",
       "      <th>...</th>\n",
       "      <th>V20</th>\n",
       "      <th>V21</th>\n",
       "      <th>V22</th>\n",
       "      <th>V23</th>\n",
       "      <th>V24</th>\n",
       "      <th>V25</th>\n",
       "      <th>V26</th>\n",
       "      <th>V27</th>\n",
       "      <th>V28</th>\n",
       "      <th>Class</th>\n",
       "    </tr>\n",
       "  </thead>\n",
       "  <tbody>\n",
       "    <tr>\n",
       "      <th>0</th>\n",
       "      <td>0.0</td>\n",
       "      <td>149.62</td>\n",
       "      <td>-1.359807</td>\n",
       "      <td>-0.072781</td>\n",
       "      <td>2.536347</td>\n",
       "      <td>1.378155</td>\n",
       "      <td>-0.338321</td>\n",
       "      <td>0.462388</td>\n",
       "      <td>0.239599</td>\n",
       "      <td>0.098698</td>\n",
       "      <td>...</td>\n",
       "      <td>0.251412</td>\n",
       "      <td>-0.018307</td>\n",
       "      <td>0.277838</td>\n",
       "      <td>-0.110474</td>\n",
       "      <td>0.066928</td>\n",
       "      <td>0.128539</td>\n",
       "      <td>-0.189115</td>\n",
       "      <td>0.133558</td>\n",
       "      <td>-0.021053</td>\n",
       "      <td>0</td>\n",
       "    </tr>\n",
       "    <tr>\n",
       "      <th>1</th>\n",
       "      <td>0.0</td>\n",
       "      <td>2.69</td>\n",
       "      <td>1.191857</td>\n",
       "      <td>0.266151</td>\n",
       "      <td>0.166480</td>\n",
       "      <td>0.448154</td>\n",
       "      <td>0.060018</td>\n",
       "      <td>-0.082361</td>\n",
       "      <td>-0.078803</td>\n",
       "      <td>0.085102</td>\n",
       "      <td>...</td>\n",
       "      <td>-0.069083</td>\n",
       "      <td>-0.225775</td>\n",
       "      <td>-0.638672</td>\n",
       "      <td>0.101288</td>\n",
       "      <td>-0.339846</td>\n",
       "      <td>0.167170</td>\n",
       "      <td>0.125895</td>\n",
       "      <td>-0.008983</td>\n",
       "      <td>0.014724</td>\n",
       "      <td>0</td>\n",
       "    </tr>\n",
       "    <tr>\n",
       "      <th>2</th>\n",
       "      <td>1.0</td>\n",
       "      <td>378.66</td>\n",
       "      <td>-1.358354</td>\n",
       "      <td>-1.340163</td>\n",
       "      <td>1.773209</td>\n",
       "      <td>0.379780</td>\n",
       "      <td>-0.503198</td>\n",
       "      <td>1.800499</td>\n",
       "      <td>0.791461</td>\n",
       "      <td>0.247676</td>\n",
       "      <td>...</td>\n",
       "      <td>0.524980</td>\n",
       "      <td>0.247998</td>\n",
       "      <td>0.771679</td>\n",
       "      <td>0.909412</td>\n",
       "      <td>-0.689281</td>\n",
       "      <td>-0.327642</td>\n",
       "      <td>-0.139097</td>\n",
       "      <td>-0.055353</td>\n",
       "      <td>-0.059752</td>\n",
       "      <td>0</td>\n",
       "    </tr>\n",
       "    <tr>\n",
       "      <th>3</th>\n",
       "      <td>1.0</td>\n",
       "      <td>123.50</td>\n",
       "      <td>-0.966272</td>\n",
       "      <td>-0.185226</td>\n",
       "      <td>1.792993</td>\n",
       "      <td>-0.863291</td>\n",
       "      <td>-0.010309</td>\n",
       "      <td>1.247203</td>\n",
       "      <td>0.237609</td>\n",
       "      <td>0.377436</td>\n",
       "      <td>...</td>\n",
       "      <td>-0.208038</td>\n",
       "      <td>-0.108300</td>\n",
       "      <td>0.005274</td>\n",
       "      <td>-0.190321</td>\n",
       "      <td>-1.175575</td>\n",
       "      <td>0.647376</td>\n",
       "      <td>-0.221929</td>\n",
       "      <td>0.062723</td>\n",
       "      <td>0.061458</td>\n",
       "      <td>0</td>\n",
       "    </tr>\n",
       "    <tr>\n",
       "      <th>4</th>\n",
       "      <td>2.0</td>\n",
       "      <td>69.99</td>\n",
       "      <td>-1.158233</td>\n",
       "      <td>0.877737</td>\n",
       "      <td>1.548718</td>\n",
       "      <td>0.403034</td>\n",
       "      <td>-0.407193</td>\n",
       "      <td>0.095921</td>\n",
       "      <td>0.592941</td>\n",
       "      <td>-0.270533</td>\n",
       "      <td>...</td>\n",
       "      <td>0.408542</td>\n",
       "      <td>-0.009431</td>\n",
       "      <td>0.798278</td>\n",
       "      <td>-0.137458</td>\n",
       "      <td>0.141267</td>\n",
       "      <td>-0.206010</td>\n",
       "      <td>0.502292</td>\n",
       "      <td>0.219422</td>\n",
       "      <td>0.215153</td>\n",
       "      <td>0</td>\n",
       "    </tr>\n",
       "  </tbody>\n",
       "</table>\n",
       "<p>5 rows × 31 columns</p>\n",
       "</div>"
      ],
      "text/plain": [
       "   Time_DayAware  Amount        V1        V2        V3        V4        V5  \\\n",
       "0            0.0  149.62 -1.359807 -0.072781  2.536347  1.378155 -0.338321   \n",
       "1            0.0    2.69  1.191857  0.266151  0.166480  0.448154  0.060018   \n",
       "2            1.0  378.66 -1.358354 -1.340163  1.773209  0.379780 -0.503198   \n",
       "3            1.0  123.50 -0.966272 -0.185226  1.792993 -0.863291 -0.010309   \n",
       "4            2.0   69.99 -1.158233  0.877737  1.548718  0.403034 -0.407193   \n",
       "\n",
       "         V6        V7        V8  ...       V20       V21       V22       V23  \\\n",
       "0  0.462388  0.239599  0.098698  ...  0.251412 -0.018307  0.277838 -0.110474   \n",
       "1 -0.082361 -0.078803  0.085102  ... -0.069083 -0.225775 -0.638672  0.101288   \n",
       "2  1.800499  0.791461  0.247676  ...  0.524980  0.247998  0.771679  0.909412   \n",
       "3  1.247203  0.237609  0.377436  ... -0.208038 -0.108300  0.005274 -0.190321   \n",
       "4  0.095921  0.592941 -0.270533  ...  0.408542 -0.009431  0.798278 -0.137458   \n",
       "\n",
       "        V24       V25       V26       V27       V28  Class  \n",
       "0  0.066928  0.128539 -0.189115  0.133558 -0.021053      0  \n",
       "1 -0.339846  0.167170  0.125895 -0.008983  0.014724      0  \n",
       "2 -0.689281 -0.327642 -0.139097 -0.055353 -0.059752      0  \n",
       "3 -1.175575  0.647376 -0.221929  0.062723  0.061458      0  \n",
       "4  0.141267 -0.206010  0.502292  0.219422  0.215153      0  \n",
       "\n",
       "[5 rows x 31 columns]"
      ]
     },
     "execution_count": 6,
     "metadata": {},
     "output_type": "execute_result"
    }
   ],
   "source": [
    "df.head()"
   ]
  },
  {
   "cell_type": "code",
   "execution_count": 7,
   "metadata": {},
   "outputs": [
    {
     "data": {
      "text/html": [
       "<div>\n",
       "<style scoped>\n",
       "    .dataframe tbody tr th:only-of-type {\n",
       "        vertical-align: middle;\n",
       "    }\n",
       "\n",
       "    .dataframe tbody tr th {\n",
       "        vertical-align: top;\n",
       "    }\n",
       "\n",
       "    .dataframe thead th {\n",
       "        text-align: right;\n",
       "    }\n",
       "</style>\n",
       "<table border=\"1\" class=\"dataframe\">\n",
       "  <thead>\n",
       "    <tr style=\"text-align: right;\">\n",
       "      <th></th>\n",
       "      <th>Time_DayAware</th>\n",
       "      <th>Amount</th>\n",
       "      <th>V1</th>\n",
       "      <th>V2</th>\n",
       "      <th>V3</th>\n",
       "      <th>V4</th>\n",
       "      <th>V5</th>\n",
       "      <th>V6</th>\n",
       "      <th>V7</th>\n",
       "      <th>V8</th>\n",
       "      <th>...</th>\n",
       "      <th>V20</th>\n",
       "      <th>V21</th>\n",
       "      <th>V22</th>\n",
       "      <th>V23</th>\n",
       "      <th>V24</th>\n",
       "      <th>V25</th>\n",
       "      <th>V26</th>\n",
       "      <th>V27</th>\n",
       "      <th>V28</th>\n",
       "      <th>Class</th>\n",
       "    </tr>\n",
       "  </thead>\n",
       "  <tbody>\n",
       "    <tr>\n",
       "      <th>count</th>\n",
       "      <td>284807.000000</td>\n",
       "      <td>284807.000000</td>\n",
       "      <td>2.848070e+05</td>\n",
       "      <td>2.848070e+05</td>\n",
       "      <td>2.848070e+05</td>\n",
       "      <td>2.848070e+05</td>\n",
       "      <td>2.848070e+05</td>\n",
       "      <td>2.848070e+05</td>\n",
       "      <td>2.848070e+05</td>\n",
       "      <td>2.848070e+05</td>\n",
       "      <td>...</td>\n",
       "      <td>2.848070e+05</td>\n",
       "      <td>2.848070e+05</td>\n",
       "      <td>2.848070e+05</td>\n",
       "      <td>2.848070e+05</td>\n",
       "      <td>2.848070e+05</td>\n",
       "      <td>2.848070e+05</td>\n",
       "      <td>2.848070e+05</td>\n",
       "      <td>2.848070e+05</td>\n",
       "      <td>2.848070e+05</td>\n",
       "      <td>284807.000000</td>\n",
       "    </tr>\n",
       "    <tr>\n",
       "      <th>mean</th>\n",
       "      <td>52336.622709</td>\n",
       "      <td>88.349619</td>\n",
       "      <td>3.918649e-15</td>\n",
       "      <td>5.682686e-16</td>\n",
       "      <td>-8.761736e-15</td>\n",
       "      <td>2.811118e-15</td>\n",
       "      <td>-1.552103e-15</td>\n",
       "      <td>2.040130e-15</td>\n",
       "      <td>-1.698953e-15</td>\n",
       "      <td>-1.893285e-16</td>\n",
       "      <td>...</td>\n",
       "      <td>5.126845e-16</td>\n",
       "      <td>1.473120e-16</td>\n",
       "      <td>8.042109e-16</td>\n",
       "      <td>5.282512e-16</td>\n",
       "      <td>4.456271e-15</td>\n",
       "      <td>1.426896e-15</td>\n",
       "      <td>1.701640e-15</td>\n",
       "      <td>-3.662252e-16</td>\n",
       "      <td>-1.217809e-16</td>\n",
       "      <td>0.001727</td>\n",
       "    </tr>\n",
       "    <tr>\n",
       "      <th>std</th>\n",
       "      <td>21049.420490</td>\n",
       "      <td>250.120109</td>\n",
       "      <td>1.958696e+00</td>\n",
       "      <td>1.651309e+00</td>\n",
       "      <td>1.516255e+00</td>\n",
       "      <td>1.415869e+00</td>\n",
       "      <td>1.380247e+00</td>\n",
       "      <td>1.332271e+00</td>\n",
       "      <td>1.237094e+00</td>\n",
       "      <td>1.194353e+00</td>\n",
       "      <td>...</td>\n",
       "      <td>7.709250e-01</td>\n",
       "      <td>7.345240e-01</td>\n",
       "      <td>7.257016e-01</td>\n",
       "      <td>6.244603e-01</td>\n",
       "      <td>6.056471e-01</td>\n",
       "      <td>5.212781e-01</td>\n",
       "      <td>4.822270e-01</td>\n",
       "      <td>4.036325e-01</td>\n",
       "      <td>3.300833e-01</td>\n",
       "      <td>0.041527</td>\n",
       "    </tr>\n",
       "    <tr>\n",
       "      <th>min</th>\n",
       "      <td>0.000000</td>\n",
       "      <td>0.000000</td>\n",
       "      <td>-5.640751e+01</td>\n",
       "      <td>-7.271573e+01</td>\n",
       "      <td>-4.832559e+01</td>\n",
       "      <td>-5.683171e+00</td>\n",
       "      <td>-1.137433e+02</td>\n",
       "      <td>-2.616051e+01</td>\n",
       "      <td>-4.355724e+01</td>\n",
       "      <td>-7.321672e+01</td>\n",
       "      <td>...</td>\n",
       "      <td>-5.449772e+01</td>\n",
       "      <td>-3.483038e+01</td>\n",
       "      <td>-1.093314e+01</td>\n",
       "      <td>-4.480774e+01</td>\n",
       "      <td>-2.836627e+00</td>\n",
       "      <td>-1.029540e+01</td>\n",
       "      <td>-2.604551e+00</td>\n",
       "      <td>-2.256568e+01</td>\n",
       "      <td>-1.543008e+01</td>\n",
       "      <td>0.000000</td>\n",
       "    </tr>\n",
       "    <tr>\n",
       "      <th>25%</th>\n",
       "      <td>38153.500000</td>\n",
       "      <td>5.600000</td>\n",
       "      <td>-9.203734e-01</td>\n",
       "      <td>-5.985499e-01</td>\n",
       "      <td>-8.903648e-01</td>\n",
       "      <td>-8.486401e-01</td>\n",
       "      <td>-6.915971e-01</td>\n",
       "      <td>-7.682956e-01</td>\n",
       "      <td>-5.540759e-01</td>\n",
       "      <td>-2.086297e-01</td>\n",
       "      <td>...</td>\n",
       "      <td>-2.117214e-01</td>\n",
       "      <td>-2.283949e-01</td>\n",
       "      <td>-5.423504e-01</td>\n",
       "      <td>-1.618463e-01</td>\n",
       "      <td>-3.545861e-01</td>\n",
       "      <td>-3.171451e-01</td>\n",
       "      <td>-3.269839e-01</td>\n",
       "      <td>-7.083953e-02</td>\n",
       "      <td>-5.295979e-02</td>\n",
       "      <td>0.000000</td>\n",
       "    </tr>\n",
       "    <tr>\n",
       "      <th>50%</th>\n",
       "      <td>54039.000000</td>\n",
       "      <td>22.000000</td>\n",
       "      <td>1.810880e-02</td>\n",
       "      <td>6.548556e-02</td>\n",
       "      <td>1.798463e-01</td>\n",
       "      <td>-1.984653e-02</td>\n",
       "      <td>-5.433583e-02</td>\n",
       "      <td>-2.741871e-01</td>\n",
       "      <td>4.010308e-02</td>\n",
       "      <td>2.235804e-02</td>\n",
       "      <td>...</td>\n",
       "      <td>-6.248109e-02</td>\n",
       "      <td>-2.945017e-02</td>\n",
       "      <td>6.781943e-03</td>\n",
       "      <td>-1.119293e-02</td>\n",
       "      <td>4.097606e-02</td>\n",
       "      <td>1.659350e-02</td>\n",
       "      <td>-5.213911e-02</td>\n",
       "      <td>1.342146e-03</td>\n",
       "      <td>1.124383e-02</td>\n",
       "      <td>0.000000</td>\n",
       "    </tr>\n",
       "    <tr>\n",
       "      <th>75%</th>\n",
       "      <td>69587.000000</td>\n",
       "      <td>77.165000</td>\n",
       "      <td>1.315642e+00</td>\n",
       "      <td>8.037239e-01</td>\n",
       "      <td>1.027196e+00</td>\n",
       "      <td>7.433413e-01</td>\n",
       "      <td>6.119264e-01</td>\n",
       "      <td>3.985649e-01</td>\n",
       "      <td>5.704361e-01</td>\n",
       "      <td>3.273459e-01</td>\n",
       "      <td>...</td>\n",
       "      <td>1.330408e-01</td>\n",
       "      <td>1.863772e-01</td>\n",
       "      <td>5.285536e-01</td>\n",
       "      <td>1.476421e-01</td>\n",
       "      <td>4.395266e-01</td>\n",
       "      <td>3.507156e-01</td>\n",
       "      <td>2.409522e-01</td>\n",
       "      <td>9.104512e-02</td>\n",
       "      <td>7.827995e-02</td>\n",
       "      <td>0.000000</td>\n",
       "    </tr>\n",
       "    <tr>\n",
       "      <th>max</th>\n",
       "      <td>86398.000000</td>\n",
       "      <td>25691.160000</td>\n",
       "      <td>2.454930e+00</td>\n",
       "      <td>2.205773e+01</td>\n",
       "      <td>9.382558e+00</td>\n",
       "      <td>1.687534e+01</td>\n",
       "      <td>3.480167e+01</td>\n",
       "      <td>7.330163e+01</td>\n",
       "      <td>1.205895e+02</td>\n",
       "      <td>2.000721e+01</td>\n",
       "      <td>...</td>\n",
       "      <td>3.942090e+01</td>\n",
       "      <td>2.720284e+01</td>\n",
       "      <td>1.050309e+01</td>\n",
       "      <td>2.252841e+01</td>\n",
       "      <td>4.584549e+00</td>\n",
       "      <td>7.519589e+00</td>\n",
       "      <td>3.517346e+00</td>\n",
       "      <td>3.161220e+01</td>\n",
       "      <td>3.384781e+01</td>\n",
       "      <td>1.000000</td>\n",
       "    </tr>\n",
       "  </tbody>\n",
       "</table>\n",
       "<p>8 rows × 31 columns</p>\n",
       "</div>"
      ],
      "text/plain": [
       "       Time_DayAware         Amount            V1            V2            V3  \\\n",
       "count  284807.000000  284807.000000  2.848070e+05  2.848070e+05  2.848070e+05   \n",
       "mean    52336.622709      88.349619  3.918649e-15  5.682686e-16 -8.761736e-15   \n",
       "std     21049.420490     250.120109  1.958696e+00  1.651309e+00  1.516255e+00   \n",
       "min         0.000000       0.000000 -5.640751e+01 -7.271573e+01 -4.832559e+01   \n",
       "25%     38153.500000       5.600000 -9.203734e-01 -5.985499e-01 -8.903648e-01   \n",
       "50%     54039.000000      22.000000  1.810880e-02  6.548556e-02  1.798463e-01   \n",
       "75%     69587.000000      77.165000  1.315642e+00  8.037239e-01  1.027196e+00   \n",
       "max     86398.000000   25691.160000  2.454930e+00  2.205773e+01  9.382558e+00   \n",
       "\n",
       "                 V4            V5            V6            V7            V8  \\\n",
       "count  2.848070e+05  2.848070e+05  2.848070e+05  2.848070e+05  2.848070e+05   \n",
       "mean   2.811118e-15 -1.552103e-15  2.040130e-15 -1.698953e-15 -1.893285e-16   \n",
       "std    1.415869e+00  1.380247e+00  1.332271e+00  1.237094e+00  1.194353e+00   \n",
       "min   -5.683171e+00 -1.137433e+02 -2.616051e+01 -4.355724e+01 -7.321672e+01   \n",
       "25%   -8.486401e-01 -6.915971e-01 -7.682956e-01 -5.540759e-01 -2.086297e-01   \n",
       "50%   -1.984653e-02 -5.433583e-02 -2.741871e-01  4.010308e-02  2.235804e-02   \n",
       "75%    7.433413e-01  6.119264e-01  3.985649e-01  5.704361e-01  3.273459e-01   \n",
       "max    1.687534e+01  3.480167e+01  7.330163e+01  1.205895e+02  2.000721e+01   \n",
       "\n",
       "       ...           V20           V21           V22           V23  \\\n",
       "count  ...  2.848070e+05  2.848070e+05  2.848070e+05  2.848070e+05   \n",
       "mean   ...  5.126845e-16  1.473120e-16  8.042109e-16  5.282512e-16   \n",
       "std    ...  7.709250e-01  7.345240e-01  7.257016e-01  6.244603e-01   \n",
       "min    ... -5.449772e+01 -3.483038e+01 -1.093314e+01 -4.480774e+01   \n",
       "25%    ... -2.117214e-01 -2.283949e-01 -5.423504e-01 -1.618463e-01   \n",
       "50%    ... -6.248109e-02 -2.945017e-02  6.781943e-03 -1.119293e-02   \n",
       "75%    ...  1.330408e-01  1.863772e-01  5.285536e-01  1.476421e-01   \n",
       "max    ...  3.942090e+01  2.720284e+01  1.050309e+01  2.252841e+01   \n",
       "\n",
       "                V24           V25           V26           V27           V28  \\\n",
       "count  2.848070e+05  2.848070e+05  2.848070e+05  2.848070e+05  2.848070e+05   \n",
       "mean   4.456271e-15  1.426896e-15  1.701640e-15 -3.662252e-16 -1.217809e-16   \n",
       "std    6.056471e-01  5.212781e-01  4.822270e-01  4.036325e-01  3.300833e-01   \n",
       "min   -2.836627e+00 -1.029540e+01 -2.604551e+00 -2.256568e+01 -1.543008e+01   \n",
       "25%   -3.545861e-01 -3.171451e-01 -3.269839e-01 -7.083953e-02 -5.295979e-02   \n",
       "50%    4.097606e-02  1.659350e-02 -5.213911e-02  1.342146e-03  1.124383e-02   \n",
       "75%    4.395266e-01  3.507156e-01  2.409522e-01  9.104512e-02  7.827995e-02   \n",
       "max    4.584549e+00  7.519589e+00  3.517346e+00  3.161220e+01  3.384781e+01   \n",
       "\n",
       "               Class  \n",
       "count  284807.000000  \n",
       "mean        0.001727  \n",
       "std         0.041527  \n",
       "min         0.000000  \n",
       "25%         0.000000  \n",
       "50%         0.000000  \n",
       "75%         0.000000  \n",
       "max         1.000000  \n",
       "\n",
       "[8 rows x 31 columns]"
      ]
     },
     "execution_count": 7,
     "metadata": {},
     "output_type": "execute_result"
    }
   ],
   "source": [
    "df.describe()"
   ]
  },
  {
   "cell_type": "markdown",
   "metadata": {},
   "source": [
    "##### Create Independent, Dependent Variable DataFrames"
   ]
  },
  {
   "cell_type": "code",
   "execution_count": 8,
   "metadata": {},
   "outputs": [],
   "source": [
    "X = df.drop('Class', axis=1)     # drop the output series from the dataset to isolate inputs (independent features)\n",
    "y = df['Class']     # set y to the output series (dependent feature)"
   ]
  },
  {
   "cell_type": "markdown",
   "metadata": {},
   "source": [
    "##### Split into train, test"
   ]
  },
  {
   "cell_type": "code",
   "execution_count": 9,
   "metadata": {},
   "outputs": [],
   "source": [
    "X_train, X_test, y_train, y_test = train_test_split(X,y,train_size=0.7,random_state=random_state)     # setting training size of dataset to 70%"
   ]
  },
  {
   "cell_type": "markdown",
   "metadata": {},
   "source": [
    "### Oversampling with Smote, Random Forest Classifier"
   ]
  },
  {
   "cell_type": "code",
   "execution_count": 10,
   "metadata": {},
   "outputs": [
    {
     "name": "stdout",
     "output_type": "stream",
     "text": [
      "Before fit: Counter({0: 199008, 1: 356})\n",
      "After fit: Counter({0: 199008, 1: 199008})\n"
     ]
    }
   ],
   "source": [
    "sm = SMOTE(random_state=random_state)\n",
    "smX_train,smy_train = sm.fit_resample(X_train,y_train)\n",
    "print('Before fit: %s' % Counter(y_train))\n",
    "print('After fit: %s' % Counter(smy_train))"
   ]
  },
  {
   "cell_type": "code",
   "execution_count": 11,
   "metadata": {},
   "outputs": [
    {
     "data": {
      "image/png": "[encoded data removed]",
      "text/plain": [
       "<Figure size 864x432 with 2 Axes>"
      ]
     },
     "metadata": {
      "needs_background": "light"
     },
     "output_type": "display_data"
    }
   ],
   "source": [
    "smote_df = smX_train.copy()\n",
    "smote_df['Class'] = smy_train.copy()\n",
    "plot_feature_correlation_heatmap(smote_df,'SMOTE-Sampled Correlation Matrix',12,6)"
   ]
  },
  {
   "cell_type": "code",
   "execution_count": 12,
   "metadata": {},
   "outputs": [
    {
     "name": "stdout",
     "output_type": "stream",
     "text": [
      "Wall time: 52.2 s\n"
     ]
    },
    {
     "data": {
      "text/plain": [
       "RandomForestClassifier(n_jobs=-1, random_state=42)"
      ]
     },
     "execution_count": 12,
     "metadata": {},
     "output_type": "execute_result"
    }
   ],
   "source": [
    "%%time\n",
    "clf = RandomForestClassifier(random_state=random_state,n_jobs=-1)     # instantiate random forest classifier class object\n",
    "clf.fit(smX_train,smy_train) # fit model"
   ]
  },
  {
   "cell_type": "code",
   "execution_count": 13,
   "metadata": {},
   "outputs": [
    {
     "name": "stdout",
     "output_type": "stream",
     "text": [
      "\n",
      "[[85286    21]\n",
      " [   18   118]]\n",
      "\n",
      "              precision    recall  f1-score   support\n",
      "\n",
      "           0       1.00      1.00      1.00     85307\n",
      "           1       0.85      0.87      0.86       136\n",
      "\n",
      "    accuracy                           1.00     85443\n",
      "   macro avg       0.92      0.93      0.93     85443\n",
      "weighted avg       1.00      1.00      1.00     85443\n",
      "\n",
      "\n"
     ]
    },
    {
     "data": {
      "image/png": "[encoded data removed]",
      "text/plain": [
       "<Figure size 1152x324 with 3 Axes>"
      ]
     },
     "metadata": {
      "needs_background": "light"
     },
     "output_type": "display_data"
    },
    {
     "name": "stdout",
     "output_type": "stream",
     "text": [
      "Accuracy\t= 1.00\n",
      "Precision\t= 0.85\n",
      "Recall\t\t= 0.87\n",
      "F1 Score\t= 0.86\n",
      "\n"
     ]
    }
   ],
   "source": [
    "y_pred = clf.predict(X_test) # predict on test\n",
    "\n",
    "# evaluation outputs\n",
    "print()\n",
    "print(confusion_matrix(y_test, y_pred))\n",
    "print()\n",
    "print(classification_report(y_test, y_pred))\n",
    "print()\n",
    "plot_cmat_prc_roc(clf,X_test,y_test, 'SMOTE, Random Forest Classifier (RFC)')\n",
    "generate_model_report(y_test,y_pred)\n",
    "print()"
   ]
  },
  {
   "cell_type": "markdown",
   "metadata": {},
   "source": [
    "### Select Top 50% MDI Features"
   ]
  },
  {
   "cell_type": "markdown",
   "metadata": {},
   "source": [
    "##### Subselect top 50% from MDI Feature Importance"
   ]
  },
  {
   "cell_type": "code",
   "execution_count": 14,
   "metadata": {},
   "outputs": [
    {
     "data": {
      "text/html": [
       "<div>\n",
       "<style scoped>\n",
       "    .dataframe tbody tr th:only-of-type {\n",
       "        vertical-align: middle;\n",
       "    }\n",
       "\n",
       "    .dataframe tbody tr th {\n",
       "        vertical-align: top;\n",
       "    }\n",
       "\n",
       "    .dataframe thead th {\n",
       "        text-align: right;\n",
       "    }\n",
       "</style>\n",
       "<table border=\"1\" class=\"dataframe\">\n",
       "  <thead>\n",
       "    <tr style=\"text-align: right;\">\n",
       "      <th></th>\n",
       "      <th>V14</th>\n",
       "      <th>V10</th>\n",
       "      <th>V12</th>\n",
       "      <th>V4</th>\n",
       "      <th>V17</th>\n",
       "      <th>V11</th>\n",
       "      <th>V3</th>\n",
       "      <th>V16</th>\n",
       "      <th>V7</th>\n",
       "      <th>V9</th>\n",
       "      <th>V2</th>\n",
       "      <th>V18</th>\n",
       "      <th>V6</th>\n",
       "      <th>V21</th>\n",
       "      <th>Time_DayAware</th>\n",
       "    </tr>\n",
       "  </thead>\n",
       "  <tbody>\n",
       "    <tr>\n",
       "      <th>0</th>\n",
       "      <td>-0.311169</td>\n",
       "      <td>0.090794</td>\n",
       "      <td>-0.617801</td>\n",
       "      <td>1.378155</td>\n",
       "      <td>0.207971</td>\n",
       "      <td>-0.551600</td>\n",
       "      <td>2.536347</td>\n",
       "      <td>-0.470401</td>\n",
       "      <td>0.239599</td>\n",
       "      <td>0.363787</td>\n",
       "      <td>-0.072781</td>\n",
       "      <td>0.025791</td>\n",
       "      <td>0.462388</td>\n",
       "      <td>-0.018307</td>\n",
       "      <td>0.0</td>\n",
       "    </tr>\n",
       "    <tr>\n",
       "      <th>1</th>\n",
       "      <td>-0.143772</td>\n",
       "      <td>-0.166974</td>\n",
       "      <td>1.065235</td>\n",
       "      <td>0.448154</td>\n",
       "      <td>-0.114805</td>\n",
       "      <td>1.612727</td>\n",
       "      <td>0.166480</td>\n",
       "      <td>0.463917</td>\n",
       "      <td>-0.078803</td>\n",
       "      <td>-0.255425</td>\n",
       "      <td>0.266151</td>\n",
       "      <td>-0.183361</td>\n",
       "      <td>-0.082361</td>\n",
       "      <td>-0.225775</td>\n",
       "      <td>0.0</td>\n",
       "    </tr>\n",
       "    <tr>\n",
       "      <th>2</th>\n",
       "      <td>-0.165946</td>\n",
       "      <td>0.207643</td>\n",
       "      <td>0.066084</td>\n",
       "      <td>0.379780</td>\n",
       "      <td>1.109969</td>\n",
       "      <td>0.624501</td>\n",
       "      <td>1.773209</td>\n",
       "      <td>-2.890083</td>\n",
       "      <td>0.791461</td>\n",
       "      <td>-1.514654</td>\n",
       "      <td>-1.340163</td>\n",
       "      <td>-0.121359</td>\n",
       "      <td>1.800499</td>\n",
       "      <td>0.247998</td>\n",
       "      <td>1.0</td>\n",
       "    </tr>\n",
       "    <tr>\n",
       "      <th>3</th>\n",
       "      <td>-0.287924</td>\n",
       "      <td>-0.054952</td>\n",
       "      <td>0.178228</td>\n",
       "      <td>-0.863291</td>\n",
       "      <td>-0.684093</td>\n",
       "      <td>-0.226487</td>\n",
       "      <td>1.792993</td>\n",
       "      <td>-1.059647</td>\n",
       "      <td>0.237609</td>\n",
       "      <td>-1.387024</td>\n",
       "      <td>-0.185226</td>\n",
       "      <td>1.965775</td>\n",
       "      <td>1.247203</td>\n",
       "      <td>-0.108300</td>\n",
       "      <td>1.0</td>\n",
       "    </tr>\n",
       "    <tr>\n",
       "      <th>4</th>\n",
       "      <td>-1.119670</td>\n",
       "      <td>0.753074</td>\n",
       "      <td>0.538196</td>\n",
       "      <td>0.403034</td>\n",
       "      <td>-0.237033</td>\n",
       "      <td>-0.822843</td>\n",
       "      <td>1.548718</td>\n",
       "      <td>-0.451449</td>\n",
       "      <td>0.592941</td>\n",
       "      <td>0.817739</td>\n",
       "      <td>0.877737</td>\n",
       "      <td>-0.038195</td>\n",
       "      <td>0.095921</td>\n",
       "      <td>-0.009431</td>\n",
       "      <td>2.0</td>\n",
       "    </tr>\n",
       "  </tbody>\n",
       "</table>\n",
       "</div>"
      ],
      "text/plain": [
       "        V14       V10       V12        V4       V17       V11        V3  \\\n",
       "0 -0.311169  0.090794 -0.617801  1.378155  0.207971 -0.551600  2.536347   \n",
       "1 -0.143772 -0.166974  1.065235  0.448154 -0.114805  1.612727  0.166480   \n",
       "2 -0.165946  0.207643  0.066084  0.379780  1.109969  0.624501  1.773209   \n",
       "3 -0.287924 -0.054952  0.178228 -0.863291 -0.684093 -0.226487  1.792993   \n",
       "4 -1.119670  0.753074  0.538196  0.403034 -0.237033 -0.822843  1.548718   \n",
       "\n",
       "        V16        V7        V9        V2       V18        V6       V21  \\\n",
       "0 -0.470401  0.239599  0.363787 -0.072781  0.025791  0.462388 -0.018307   \n",
       "1  0.463917 -0.078803 -0.255425  0.266151 -0.183361 -0.082361 -0.225775   \n",
       "2 -2.890083  0.791461 -1.514654 -1.340163 -0.121359  1.800499  0.247998   \n",
       "3 -1.059647  0.237609 -1.387024 -0.185226  1.965775  1.247203 -0.108300   \n",
       "4 -0.451449  0.592941  0.817739  0.877737 -0.038195  0.095921 -0.009431   \n",
       "\n",
       "   Time_DayAware  \n",
       "0            0.0  \n",
       "1            0.0  \n",
       "2            1.0  \n",
       "3            1.0  \n",
       "4            2.0  "
      ]
     },
     "execution_count": 14,
     "metadata": {},
     "output_type": "execute_result"
    }
   ],
   "source": [
    "#top_half_Mdi = ['V14', 'V10', 'V12', 'V4', 'V17', 'V11', 'V3', 'V16', 'V7', 'V9', 'V2', 'V1', 'V6', 'V27', 'Time_DayAware'] # list of top features from MDI\n",
    "top_half_Mdi = ['V14', 'V10', 'V12', 'V4', 'V17', 'V11', 'V3', 'V16', 'V7', 'V9', 'V2', 'V18', 'V6', 'V21', 'Time_DayAware'] # list of top features from MDI\n",
    "X_Mdi = X.loc[:,top_half_Mdi]\n",
    "X_Mdi.head()"
   ]
  },
  {
   "cell_type": "code",
   "execution_count": 15,
   "metadata": {},
   "outputs": [
    {
     "name": "stdout",
     "output_type": "stream",
     "text": [
      "Before fit: Counter({0: 199008, 1: 356})\n",
      "After fit: Counter({0: 199008, 1: 199008})\n"
     ]
    },
    {
     "data": {
      "image/png": "[encoded data removed]",
      "text/plain": [
       "<Figure size 864x432 with 2 Axes>"
      ]
     },
     "metadata": {
      "needs_background": "light"
     },
     "output_type": "display_data"
    }
   ],
   "source": [
    "# train/test split\n",
    "X_train, X_test, y_train, y_test = train_test_split(X_Mdi,y,train_size=0.7,random_state=random_state)     # setting training size of dataset to 70%\n",
    "\n",
    "# Synthetic Sample\n",
    "sm = SMOTE(random_state=random_state)\n",
    "X_train_sm, y_train_sm = sm.fit_resample(X_train,y_train)\n",
    "\n",
    "# printout counts\n",
    "print('Before fit: %s' % Counter(y_train))\n",
    "print('After fit: %s' % Counter(y_train_sm))\n",
    "\n",
    "smote_df = X_train_sm.copy()\n",
    "smote_df['Class'] = y_train_sm.copy()\n",
    "plot_feature_correlation_heatmap(smote_df,'SMOTE-Sampled Correlation Matrix',12,6)"
   ]
  },
  {
   "cell_type": "code",
   "execution_count": 16,
   "metadata": {},
   "outputs": [
    {
     "name": "stdout",
     "output_type": "stream",
     "text": [
      "Wall time: 30.1 s\n"
     ]
    },
    {
     "data": {
      "text/plain": [
       "RandomForestClassifier(n_jobs=-1, random_state=42)"
      ]
     },
     "execution_count": 16,
     "metadata": {},
     "output_type": "execute_result"
    }
   ],
   "source": [
    "%%time\n",
    "clf = RandomForestClassifier(random_state=random_state,n_jobs=-1)     # instantiate random forest classifier class object\n",
    "clf.fit(X_train_sm,y_train_sm) # fit model"
   ]
  },
  {
   "cell_type": "code",
   "execution_count": 17,
   "metadata": {},
   "outputs": [
    {
     "name": "stdout",
     "output_type": "stream",
     "text": [
      "\n",
      "[[85282    25]\n",
      " [   16   120]]\n",
      "\n",
      "              precision    recall  f1-score   support\n",
      "\n",
      "           0       1.00      1.00      1.00     85307\n",
      "           1       0.83      0.88      0.85       136\n",
      "\n",
      "    accuracy                           1.00     85443\n",
      "   macro avg       0.91      0.94      0.93     85443\n",
      "weighted avg       1.00      1.00      1.00     85443\n",
      "\n",
      "\n"
     ]
    },
    {
     "data": {
      "image/png": "[encoded data removed]",
      "text/plain": [
       "<Figure size 1152x324 with 3 Axes>"
      ]
     },
     "metadata": {
      "needs_background": "light"
     },
     "output_type": "display_data"
    },
    {
     "name": "stdout",
     "output_type": "stream",
     "text": [
      "Accuracy\t= 1.00\n",
      "Precision\t= 0.83\n",
      "Recall\t\t= 0.88\n",
      "F1 Score\t= 0.85\n",
      "\n"
     ]
    }
   ],
   "source": [
    "y_pred = clf.predict(X_test) # predict on test\n",
    "\n",
    "# evaluation outputs\n",
    "print()\n",
    "print(confusion_matrix(y_test, y_pred))\n",
    "print()\n",
    "print(classification_report(y_test, y_pred))\n",
    "print()\n",
    "plot_cmat_prc_roc(clf,X_test,y_test,'Mean Decrease in Impurity (MDI): Top 15 Significant Features')\n",
    "generate_model_report(y_test,y_pred)\n",
    "print()"
   ]
  },
  {
   "cell_type": "markdown",
   "metadata": {},
   "source": [
    "### Top 15 MDI post-Smote"
   ]
  },
  {
   "cell_type": "code",
   "execution_count": 18,
   "metadata": {},
   "outputs": [
    {
     "data": {
      "text/html": [
       "<div>\n",
       "<style scoped>\n",
       "    .dataframe tbody tr th:only-of-type {\n",
       "        vertical-align: middle;\n",
       "    }\n",
       "\n",
       "    .dataframe tbody tr th {\n",
       "        vertical-align: top;\n",
       "    }\n",
       "\n",
       "    .dataframe thead th {\n",
       "        text-align: right;\n",
       "    }\n",
       "</style>\n",
       "<table border=\"1\" class=\"dataframe\">\n",
       "  <thead>\n",
       "    <tr style=\"text-align: right;\">\n",
       "      <th></th>\n",
       "      <th>V14</th>\n",
       "      <th>V10</th>\n",
       "      <th>V12</th>\n",
       "      <th>V4</th>\n",
       "      <th>V17</th>\n",
       "      <th>V11</th>\n",
       "      <th>V3</th>\n",
       "      <th>V16</th>\n",
       "      <th>V7</th>\n",
       "      <th>V9</th>\n",
       "      <th>V2</th>\n",
       "      <th>V18</th>\n",
       "      <th>V6</th>\n",
       "      <th>V21</th>\n",
       "      <th>Time_DayAware</th>\n",
       "    </tr>\n",
       "  </thead>\n",
       "  <tbody>\n",
       "    <tr>\n",
       "      <th>0</th>\n",
       "      <td>-0.311169</td>\n",
       "      <td>0.090794</td>\n",
       "      <td>-0.617801</td>\n",
       "      <td>1.378155</td>\n",
       "      <td>0.207971</td>\n",
       "      <td>-0.551600</td>\n",
       "      <td>2.536347</td>\n",
       "      <td>-0.470401</td>\n",
       "      <td>0.239599</td>\n",
       "      <td>0.363787</td>\n",
       "      <td>-0.072781</td>\n",
       "      <td>0.025791</td>\n",
       "      <td>0.462388</td>\n",
       "      <td>-0.018307</td>\n",
       "      <td>0.0</td>\n",
       "    </tr>\n",
       "    <tr>\n",
       "      <th>1</th>\n",
       "      <td>-0.143772</td>\n",
       "      <td>-0.166974</td>\n",
       "      <td>1.065235</td>\n",
       "      <td>0.448154</td>\n",
       "      <td>-0.114805</td>\n",
       "      <td>1.612727</td>\n",
       "      <td>0.166480</td>\n",
       "      <td>0.463917</td>\n",
       "      <td>-0.078803</td>\n",
       "      <td>-0.255425</td>\n",
       "      <td>0.266151</td>\n",
       "      <td>-0.183361</td>\n",
       "      <td>-0.082361</td>\n",
       "      <td>-0.225775</td>\n",
       "      <td>0.0</td>\n",
       "    </tr>\n",
       "    <tr>\n",
       "      <th>2</th>\n",
       "      <td>-0.165946</td>\n",
       "      <td>0.207643</td>\n",
       "      <td>0.066084</td>\n",
       "      <td>0.379780</td>\n",
       "      <td>1.109969</td>\n",
       "      <td>0.624501</td>\n",
       "      <td>1.773209</td>\n",
       "      <td>-2.890083</td>\n",
       "      <td>0.791461</td>\n",
       "      <td>-1.514654</td>\n",
       "      <td>-1.340163</td>\n",
       "      <td>-0.121359</td>\n",
       "      <td>1.800499</td>\n",
       "      <td>0.247998</td>\n",
       "      <td>1.0</td>\n",
       "    </tr>\n",
       "    <tr>\n",
       "      <th>3</th>\n",
       "      <td>-0.287924</td>\n",
       "      <td>-0.054952</td>\n",
       "      <td>0.178228</td>\n",
       "      <td>-0.863291</td>\n",
       "      <td>-0.684093</td>\n",
       "      <td>-0.226487</td>\n",
       "      <td>1.792993</td>\n",
       "      <td>-1.059647</td>\n",
       "      <td>0.237609</td>\n",
       "      <td>-1.387024</td>\n",
       "      <td>-0.185226</td>\n",
       "      <td>1.965775</td>\n",
       "      <td>1.247203</td>\n",
       "      <td>-0.108300</td>\n",
       "      <td>1.0</td>\n",
       "    </tr>\n",
       "    <tr>\n",
       "      <th>4</th>\n",
       "      <td>-1.119670</td>\n",
       "      <td>0.753074</td>\n",
       "      <td>0.538196</td>\n",
       "      <td>0.403034</td>\n",
       "      <td>-0.237033</td>\n",
       "      <td>-0.822843</td>\n",
       "      <td>1.548718</td>\n",
       "      <td>-0.451449</td>\n",
       "      <td>0.592941</td>\n",
       "      <td>0.817739</td>\n",
       "      <td>0.877737</td>\n",
       "      <td>-0.038195</td>\n",
       "      <td>0.095921</td>\n",
       "      <td>-0.009431</td>\n",
       "      <td>2.0</td>\n",
       "    </tr>\n",
       "  </tbody>\n",
       "</table>\n",
       "</div>"
      ],
      "text/plain": [
       "        V14       V10       V12        V4       V17       V11        V3  \\\n",
       "0 -0.311169  0.090794 -0.617801  1.378155  0.207971 -0.551600  2.536347   \n",
       "1 -0.143772 -0.166974  1.065235  0.448154 -0.114805  1.612727  0.166480   \n",
       "2 -0.165946  0.207643  0.066084  0.379780  1.109969  0.624501  1.773209   \n",
       "3 -0.287924 -0.054952  0.178228 -0.863291 -0.684093 -0.226487  1.792993   \n",
       "4 -1.119670  0.753074  0.538196  0.403034 -0.237033 -0.822843  1.548718   \n",
       "\n",
       "        V16        V7        V9        V2       V18        V6       V21  \\\n",
       "0 -0.470401  0.239599  0.363787 -0.072781  0.025791  0.462388 -0.018307   \n",
       "1  0.463917 -0.078803 -0.255425  0.266151 -0.183361 -0.082361 -0.225775   \n",
       "2 -2.890083  0.791461 -1.514654 -1.340163 -0.121359  1.800499  0.247998   \n",
       "3 -1.059647  0.237609 -1.387024 -0.185226  1.965775  1.247203 -0.108300   \n",
       "4 -0.451449  0.592941  0.817739  0.877737 -0.038195  0.095921 -0.009431   \n",
       "\n",
       "   Time_DayAware  \n",
       "0            0.0  \n",
       "1            0.0  \n",
       "2            1.0  \n",
       "3            1.0  \n",
       "4            2.0  "
      ]
     },
     "execution_count": 18,
     "metadata": {},
     "output_type": "execute_result"
    }
   ],
   "source": [
    "#top_half_Mdi = ['V14', 'V10', 'V12', 'V4', 'V17', 'V11', 'V3', 'V16', 'V7', 'V9', 'V2', 'V1', 'V6', 'V27', 'Time_DayAware'] # list of top features from MDI\n",
    "top_half_Mdi = ['V14', 'V10', 'V12', 'V4', 'V17', 'V11', 'V3', 'V16', 'V7', 'V9', 'V2', 'V18', 'V6', 'V21', 'Time_DayAware'] # list of top features from MDI\n",
    "X_Mdi = X.loc[:,top_half_Mdi]\n",
    "X_Mdi.head()"
   ]
  },
  {
   "cell_type": "code",
   "execution_count": 19,
   "metadata": {},
   "outputs": [
    {
     "name": "stdout",
     "output_type": "stream",
     "text": [
      "Before fit: Counter({0: 199008, 1: 356})\n",
      "After fit: Counter({0: 199008, 1: 199008})\n"
     ]
    },
    {
     "data": {
      "image/png": "[encoded data removed]",
      "text/plain": [
       "<Figure size 864x432 with 2 Axes>"
      ]
     },
     "metadata": {
      "needs_background": "light"
     },
     "output_type": "display_data"
    }
   ],
   "source": [
    "# train/test split\n",
    "X_train, X_test, y_train, y_test = train_test_split(X_Mdi,y,train_size=0.7,random_state=random_state)     # setting training size of dataset to 70%\n",
    "\n",
    "# Synthetic Sample\n",
    "sm = SMOTE(random_state=random_state)\n",
    "X_train_sm, y_train_sm = sm.fit_resample(X_train,y_train)\n",
    "\n",
    "# printout counts\n",
    "print('Before fit: %s' % Counter(y_train))\n",
    "print('After fit: %s' % Counter(y_train_sm))\n",
    "\n",
    "smote_df = X_train_sm.copy()\n",
    "smote_df['Class'] = y_train_sm.copy()\n",
    "plot_feature_correlation_heatmap(smote_df,'SMOTE-Sampled Correlation Matrix',12,6)"
   ]
  },
  {
   "cell_type": "code",
   "execution_count": 20,
   "metadata": {},
   "outputs": [
    {
     "name": "stdout",
     "output_type": "stream",
     "text": [
      "Wall time: 30.3 s\n"
     ]
    },
    {
     "data": {
      "text/plain": [
       "RandomForestClassifier(n_jobs=-1, random_state=42)"
      ]
     },
     "execution_count": 20,
     "metadata": {},
     "output_type": "execute_result"
    }
   ],
   "source": [
    "%%time\n",
    "clf = RandomForestClassifier(random_state=random_state,n_jobs=-1)     # instantiate random forest classifier class object\n",
    "clf.fit(X_train_sm,y_train_sm) # fit model"
   ]
  },
  {
   "cell_type": "code",
   "execution_count": 21,
   "metadata": {},
   "outputs": [
    {
     "name": "stdout",
     "output_type": "stream",
     "text": [
      "\n",
      "[[85282    25]\n",
      " [   16   120]]\n",
      "\n",
      "              precision    recall  f1-score   support\n",
      "\n",
      "           0       1.00      1.00      1.00     85307\n",
      "           1       0.83      0.88      0.85       136\n",
      "\n",
      "    accuracy                           1.00     85443\n",
      "   macro avg       0.91      0.94      0.93     85443\n",
      "weighted avg       1.00      1.00      1.00     85443\n",
      "\n",
      "\n"
     ]
    },
    {
     "data": {
      "image/png": "[encoded data removed]",
      "text/plain": [
       "<Figure size 1152x324 with 3 Axes>"
      ]
     },
     "metadata": {
      "needs_background": "light"
     },
     "output_type": "display_data"
    },
    {
     "name": "stdout",
     "output_type": "stream",
     "text": [
      "Accuracy\t= 1.00\n",
      "Precision\t= 0.83\n",
      "Recall\t\t= 0.88\n",
      "F1 Score\t= 0.85\n",
      "\n"
     ]
    }
   ],
   "source": [
    "y_pred = clf.predict(X_test) # predict on test\n",
    "\n",
    "# evaluation outputs\n",
    "print()\n",
    "print(confusion_matrix(y_test, y_pred))\n",
    "print()\n",
    "print(classification_report(y_test, y_pred))\n",
    "print()\n",
    "plot_cmat_prc_roc(clf,X_test,y_test,'Mean Decrease in Impurity (MDI): Top 15 Significant Features')\n",
    "generate_model_report(y_test,y_pred)\n",
    "print()"
   ]
  },
  {
   "cell_type": "markdown",
   "metadata": {},
   "source": [
    "### Model with Top Permutation Importance Features"
   ]
  },
  {
   "cell_type": "code",
   "execution_count": 22,
   "metadata": {},
   "outputs": [
    {
     "data": {
      "text/html": [
       "<div>\n",
       "<style scoped>\n",
       "    .dataframe tbody tr th:only-of-type {\n",
       "        vertical-align: middle;\n",
       "    }\n",
       "\n",
       "    .dataframe tbody tr th {\n",
       "        vertical-align: top;\n",
       "    }\n",
       "\n",
       "    .dataframe thead th {\n",
       "        text-align: right;\n",
       "    }\n",
       "</style>\n",
       "<table border=\"1\" class=\"dataframe\">\n",
       "  <thead>\n",
       "    <tr style=\"text-align: right;\">\n",
       "      <th></th>\n",
       "      <th>V12</th>\n",
       "      <th>V4</th>\n",
       "      <th>V3</th>\n",
       "      <th>V14</th>\n",
       "      <th>V10</th>\n",
       "      <th>V27</th>\n",
       "      <th>V11</th>\n",
       "      <th>V17</th>\n",
       "      <th>V16</th>\n",
       "      <th>V28</th>\n",
       "      <th>V7</th>\n",
       "      <th>V26</th>\n",
       "      <th>V20</th>\n",
       "      <th>V25</th>\n",
       "    </tr>\n",
       "  </thead>\n",
       "  <tbody>\n",
       "    <tr>\n",
       "      <th>0</th>\n",
       "      <td>-0.617801</td>\n",
       "      <td>1.378155</td>\n",
       "      <td>2.536347</td>\n",
       "      <td>-0.311169</td>\n",
       "      <td>0.090794</td>\n",
       "      <td>0.133558</td>\n",
       "      <td>-0.551600</td>\n",
       "      <td>0.207971</td>\n",
       "      <td>-0.470401</td>\n",
       "      <td>-0.021053</td>\n",
       "      <td>0.239599</td>\n",
       "      <td>-0.189115</td>\n",
       "      <td>0.251412</td>\n",
       "      <td>0.128539</td>\n",
       "    </tr>\n",
       "    <tr>\n",
       "      <th>1</th>\n",
       "      <td>1.065235</td>\n",
       "      <td>0.448154</td>\n",
       "      <td>0.166480</td>\n",
       "      <td>-0.143772</td>\n",
       "      <td>-0.166974</td>\n",
       "      <td>-0.008983</td>\n",
       "      <td>1.612727</td>\n",
       "      <td>-0.114805</td>\n",
       "      <td>0.463917</td>\n",
       "      <td>0.014724</td>\n",
       "      <td>-0.078803</td>\n",
       "      <td>0.125895</td>\n",
       "      <td>-0.069083</td>\n",
       "      <td>0.167170</td>\n",
       "    </tr>\n",
       "    <tr>\n",
       "      <th>2</th>\n",
       "      <td>0.066084</td>\n",
       "      <td>0.379780</td>\n",
       "      <td>1.773209</td>\n",
       "      <td>-0.165946</td>\n",
       "      <td>0.207643</td>\n",
       "      <td>-0.055353</td>\n",
       "      <td>0.624501</td>\n",
       "      <td>1.109969</td>\n",
       "      <td>-2.890083</td>\n",
       "      <td>-0.059752</td>\n",
       "      <td>0.791461</td>\n",
       "      <td>-0.139097</td>\n",
       "      <td>0.524980</td>\n",
       "      <td>-0.327642</td>\n",
       "    </tr>\n",
       "    <tr>\n",
       "      <th>3</th>\n",
       "      <td>0.178228</td>\n",
       "      <td>-0.863291</td>\n",
       "      <td>1.792993</td>\n",
       "      <td>-0.287924</td>\n",
       "      <td>-0.054952</td>\n",
       "      <td>0.062723</td>\n",
       "      <td>-0.226487</td>\n",
       "      <td>-0.684093</td>\n",
       "      <td>-1.059647</td>\n",
       "      <td>0.061458</td>\n",
       "      <td>0.237609</td>\n",
       "      <td>-0.221929</td>\n",
       "      <td>-0.208038</td>\n",
       "      <td>0.647376</td>\n",
       "    </tr>\n",
       "    <tr>\n",
       "      <th>4</th>\n",
       "      <td>0.538196</td>\n",
       "      <td>0.403034</td>\n",
       "      <td>1.548718</td>\n",
       "      <td>-1.119670</td>\n",
       "      <td>0.753074</td>\n",
       "      <td>0.219422</td>\n",
       "      <td>-0.822843</td>\n",
       "      <td>-0.237033</td>\n",
       "      <td>-0.451449</td>\n",
       "      <td>0.215153</td>\n",
       "      <td>0.592941</td>\n",
       "      <td>0.502292</td>\n",
       "      <td>0.408542</td>\n",
       "      <td>-0.206010</td>\n",
       "    </tr>\n",
       "  </tbody>\n",
       "</table>\n",
       "</div>"
      ],
      "text/plain": [
       "        V12        V4        V3       V14       V10       V27       V11  \\\n",
       "0 -0.617801  1.378155  2.536347 -0.311169  0.090794  0.133558 -0.551600   \n",
       "1  1.065235  0.448154  0.166480 -0.143772 -0.166974 -0.008983  1.612727   \n",
       "2  0.066084  0.379780  1.773209 -0.165946  0.207643 -0.055353  0.624501   \n",
       "3  0.178228 -0.863291  1.792993 -0.287924 -0.054952  0.062723 -0.226487   \n",
       "4  0.538196  0.403034  1.548718 -1.119670  0.753074  0.219422 -0.822843   \n",
       "\n",
       "        V17       V16       V28        V7       V26       V20       V25  \n",
       "0  0.207971 -0.470401 -0.021053  0.239599 -0.189115  0.251412  0.128539  \n",
       "1 -0.114805  0.463917  0.014724 -0.078803  0.125895 -0.069083  0.167170  \n",
       "2  1.109969 -2.890083 -0.059752  0.791461 -0.139097  0.524980 -0.327642  \n",
       "3 -0.684093 -1.059647  0.061458  0.237609 -0.221929 -0.208038  0.647376  \n",
       "4 -0.237033 -0.451449  0.215153  0.592941  0.502292  0.408542 -0.206010  "
      ]
     },
     "execution_count": 22,
     "metadata": {},
     "output_type": "execute_result"
    }
   ],
   "source": [
    "top_half_Pi = ['V12','V4','V3','V14','V10','V27','V11','V17','V16','V28','V7','V26','V20','V25'] # list of top features from MDI\n",
    "\n",
    "X_Pi = X.loc[:,top_half_Pi]\n",
    "X_Pi.head()"
   ]
  },
  {
   "cell_type": "code",
   "execution_count": 23,
   "metadata": {},
   "outputs": [
    {
     "name": "stdout",
     "output_type": "stream",
     "text": [
      "Before fit: Counter({0: 199008, 1: 356})\n",
      "After fit: Counter({0: 199008, 1: 199008})\n"
     ]
    },
    {
     "data": {
      "image/png": "[encoded data removed]",
      "text/plain": [
       "<Figure size 864x432 with 2 Axes>"
      ]
     },
     "metadata": {
      "needs_background": "light"
     },
     "output_type": "display_data"
    }
   ],
   "source": [
    "# train/test split\n",
    "X_train, X_test, y_train, y_test = train_test_split(X_Pi,y,train_size=0.7,random_state=random_state)     # setting training size of dataset to 70%\n",
    "\n",
    "# Synthetic Sample\n",
    "sm = SMOTE(random_state=random_state)\n",
    "X_train_sm, y_train_sm = sm.fit_resample(X_train,y_train)\n",
    "\n",
    "# printout counts\n",
    "print('Before fit: %s' % Counter(y_train))\n",
    "print('After fit: %s' % Counter(y_train_sm))\n",
    "\n",
    "smote_df = X_train_sm.copy()\n",
    "smote_df['Class'] = y_train_sm.copy()\n",
    "plot_feature_correlation_heatmap(smote_df,'SMOTE-Sampled Correlation Matrix',12,6)"
   ]
  },
  {
   "cell_type": "code",
   "execution_count": 24,
   "metadata": {},
   "outputs": [
    {
     "name": "stdout",
     "output_type": "stream",
     "text": [
      "Wall time: 29.2 s\n"
     ]
    },
    {
     "data": {
      "text/plain": [
       "RandomForestClassifier(n_jobs=-1, random_state=42)"
      ]
     },
     "execution_count": 24,
     "metadata": {},
     "output_type": "execute_result"
    }
   ],
   "source": [
    "%%time\n",
    "clf = RandomForestClassifier(random_state=random_state,n_jobs=-1)     # instantiate random forest classifier class object\n",
    "clf.fit(X_train_sm,y_train_sm) # fit model"
   ]
  },
  {
   "cell_type": "code",
   "execution_count": 25,
   "metadata": {},
   "outputs": [
    {
     "name": "stdout",
     "output_type": "stream",
     "text": [
      "\n",
      "[[85278    29]\n",
      " [   17   119]]\n",
      "\n",
      "              precision    recall  f1-score   support\n",
      "\n",
      "           0       1.00      1.00      1.00     85307\n",
      "           1       0.80      0.88      0.84       136\n",
      "\n",
      "    accuracy                           1.00     85443\n",
      "   macro avg       0.90      0.94      0.92     85443\n",
      "weighted avg       1.00      1.00      1.00     85443\n",
      "\n",
      "\n"
     ]
    },
    {
     "data": {
      "image/png": "[encoded data removed]",
      "text/plain": [
       "<Figure size 1152x324 with 3 Axes>"
      ]
     },
     "metadata": {
      "needs_background": "light"
     },
     "output_type": "display_data"
    },
    {
     "name": "stdout",
     "output_type": "stream",
     "text": [
      "Accuracy\t= 1.00\n",
      "Precision\t= 0.80\n",
      "Recall\t\t= 0.88\n",
      "F1 Score\t= 0.84\n",
      "\n"
     ]
    }
   ],
   "source": [
    "y_pred = clf.predict(X_test) # predict on test\n",
    "\n",
    "# evaluation outputs\n",
    "print()\n",
    "print(confusion_matrix(y_test, y_pred))\n",
    "print()\n",
    "print(classification_report(y_test, y_pred))\n",
    "print()\n",
    "plot_cmat_prc_roc(clf,X_test,y_test,'Permutation Importance: Top 15 Significant Features')\n",
    "generate_model_report(y_test,y_pred)\n",
    "print()"
   ]
  },
  {
   "cell_type": "markdown",
   "metadata": {},
   "source": [
    "### Model with Combined Top 12"
   ]
  },
  {
   "cell_type": "code",
   "execution_count": 45,
   "metadata": {},
   "outputs": [
    {
     "data": {
      "text/html": [
       "<div>\n",
       "<style scoped>\n",
       "    .dataframe tbody tr th:only-of-type {\n",
       "        vertical-align: middle;\n",
       "    }\n",
       "\n",
       "    .dataframe tbody tr th {\n",
       "        vertical-align: top;\n",
       "    }\n",
       "\n",
       "    .dataframe thead th {\n",
       "        text-align: right;\n",
       "    }\n",
       "</style>\n",
       "<table border=\"1\" class=\"dataframe\">\n",
       "  <thead>\n",
       "    <tr style=\"text-align: right;\">\n",
       "      <th></th>\n",
       "      <th>Time_DayAware</th>\n",
       "      <th>V10</th>\n",
       "      <th>V11</th>\n",
       "      <th>V12</th>\n",
       "      <th>V14</th>\n",
       "      <th>V16</th>\n",
       "      <th>V17</th>\n",
       "      <th>V3</th>\n",
       "      <th>V4</th>\n",
       "      <th>V8</th>\n",
       "      <th>V7</th>\n",
       "      <th>V1</th>\n",
       "      <th>V21</th>\n",
       "    </tr>\n",
       "  </thead>\n",
       "  <tbody>\n",
       "    <tr>\n",
       "      <th>0</th>\n",
       "      <td>0.0</td>\n",
       "      <td>0.090794</td>\n",
       "      <td>-0.551600</td>\n",
       "      <td>-0.617801</td>\n",
       "      <td>-0.311169</td>\n",
       "      <td>-0.470401</td>\n",
       "      <td>0.207971</td>\n",
       "      <td>2.536347</td>\n",
       "      <td>1.378155</td>\n",
       "      <td>0.098698</td>\n",
       "      <td>0.239599</td>\n",
       "      <td>-1.359807</td>\n",
       "      <td>-0.018307</td>\n",
       "    </tr>\n",
       "    <tr>\n",
       "      <th>1</th>\n",
       "      <td>0.0</td>\n",
       "      <td>-0.166974</td>\n",
       "      <td>1.612727</td>\n",
       "      <td>1.065235</td>\n",
       "      <td>-0.143772</td>\n",
       "      <td>0.463917</td>\n",
       "      <td>-0.114805</td>\n",
       "      <td>0.166480</td>\n",
       "      <td>0.448154</td>\n",
       "      <td>0.085102</td>\n",
       "      <td>-0.078803</td>\n",
       "      <td>1.191857</td>\n",
       "      <td>-0.225775</td>\n",
       "    </tr>\n",
       "    <tr>\n",
       "      <th>2</th>\n",
       "      <td>1.0</td>\n",
       "      <td>0.207643</td>\n",
       "      <td>0.624501</td>\n",
       "      <td>0.066084</td>\n",
       "      <td>-0.165946</td>\n",
       "      <td>-2.890083</td>\n",
       "      <td>1.109969</td>\n",
       "      <td>1.773209</td>\n",
       "      <td>0.379780</td>\n",
       "      <td>0.247676</td>\n",
       "      <td>0.791461</td>\n",
       "      <td>-1.358354</td>\n",
       "      <td>0.247998</td>\n",
       "    </tr>\n",
       "    <tr>\n",
       "      <th>3</th>\n",
       "      <td>1.0</td>\n",
       "      <td>-0.054952</td>\n",
       "      <td>-0.226487</td>\n",
       "      <td>0.178228</td>\n",
       "      <td>-0.287924</td>\n",
       "      <td>-1.059647</td>\n",
       "      <td>-0.684093</td>\n",
       "      <td>1.792993</td>\n",
       "      <td>-0.863291</td>\n",
       "      <td>0.377436</td>\n",
       "      <td>0.237609</td>\n",
       "      <td>-0.966272</td>\n",
       "      <td>-0.108300</td>\n",
       "    </tr>\n",
       "    <tr>\n",
       "      <th>4</th>\n",
       "      <td>2.0</td>\n",
       "      <td>0.753074</td>\n",
       "      <td>-0.822843</td>\n",
       "      <td>0.538196</td>\n",
       "      <td>-1.119670</td>\n",
       "      <td>-0.451449</td>\n",
       "      <td>-0.237033</td>\n",
       "      <td>1.548718</td>\n",
       "      <td>0.403034</td>\n",
       "      <td>-0.270533</td>\n",
       "      <td>0.592941</td>\n",
       "      <td>-1.158233</td>\n",
       "      <td>-0.009431</td>\n",
       "    </tr>\n",
       "  </tbody>\n",
       "</table>\n",
       "</div>"
      ],
      "text/plain": [
       "   Time_DayAware       V10       V11       V12       V14       V16       V17  \\\n",
       "0            0.0  0.090794 -0.551600 -0.617801 -0.311169 -0.470401  0.207971   \n",
       "1            0.0 -0.166974  1.612727  1.065235 -0.143772  0.463917 -0.114805   \n",
       "2            1.0  0.207643  0.624501  0.066084 -0.165946 -2.890083  1.109969   \n",
       "3            1.0 -0.054952 -0.226487  0.178228 -0.287924 -1.059647 -0.684093   \n",
       "4            2.0  0.753074 -0.822843  0.538196 -1.119670 -0.451449 -0.237033   \n",
       "\n",
       "         V3        V4        V8        V7        V1       V21  \n",
       "0  2.536347  1.378155  0.098698  0.239599 -1.359807 -0.018307  \n",
       "1  0.166480  0.448154  0.085102 -0.078803  1.191857 -0.225775  \n",
       "2  1.773209  0.379780  0.247676  0.791461 -1.358354  0.247998  \n",
       "3  1.792993 -0.863291  0.377436  0.237609 -0.966272 -0.108300  \n",
       "4  1.548718  0.403034 -0.270533  0.592941 -1.158233 -0.009431  "
      ]
     },
     "execution_count": 45,
     "metadata": {},
     "output_type": "execute_result"
    }
   ],
   "source": [
    "top_twelve = ['Time_DayAware', 'V10', 'V11', 'V12', 'V14', 'V16', 'V17', 'V3', 'V4', 'V8', 'V7','V1','V21'] # combines significant features from smote MDI, no resample MDI, Permutation Importance\n",
    "\n",
    "X_top_twelve = X.loc[:,top_twelve]\n",
    "X_top_twelve.head()"
   ]
  },
  {
   "cell_type": "code",
   "execution_count": 46,
   "metadata": {},
   "outputs": [
    {
     "name": "stdout",
     "output_type": "stream",
     "text": [
      "Before fit: Counter({0: 199008, 1: 356})\n",
      "After fit: Counter({0: 199008, 1: 199008})\n"
     ]
    },
    {
     "data": {
      "image/png": "[encoded data removed]",
      "text/plain": [
       "<Figure size 864x432 with 2 Axes>"
      ]
     },
     "metadata": {
      "needs_background": "light"
     },
     "output_type": "display_data"
    }
   ],
   "source": [
    "# train/test split\n",
    "X_train, X_test, y_train, y_test = train_test_split(X_top_twelve,y,train_size=0.7,random_state=random_state)     # setting training size of dataset to 70%\n",
    "\n",
    "# Synthetic Sample\n",
    "sm = SMOTE(random_state=random_state)\n",
    "X_train_sm, y_train_sm = sm.fit_resample(X_train,y_train)\n",
    "\n",
    "# printout counts\n",
    "print('Before fit: %s' % Counter(y_train))\n",
    "print('After fit: %s' % Counter(y_train_sm))\n",
    "\n",
    "smote_df = X_train_sm.copy()\n",
    "smote_df['Class'] = y_train_sm.copy()\n",
    "plot_feature_correlation_heatmap(smote_df,'SMOTE-Sampled Correlation Matrix',12,6)"
   ]
  },
  {
   "cell_type": "code",
   "execution_count": 47,
   "metadata": {},
   "outputs": [
    {
     "name": "stdout",
     "output_type": "stream",
     "text": [
      "Wall time: 30.1 s\n"
     ]
    },
    {
     "data": {
      "text/plain": [
       "RandomForestClassifier(n_jobs=-1, random_state=42)"
      ]
     },
     "execution_count": 47,
     "metadata": {},
     "output_type": "execute_result"
    }
   ],
   "source": [
    "%%time\n",
    "clf = RandomForestClassifier(random_state=random_state,n_jobs=-1)     # instantiate random forest classifier class object\n",
    "clf.fit(X_train_sm,y_train_sm) # fit model"
   ]
  },
  {
   "cell_type": "code",
   "execution_count": 48,
   "metadata": {},
   "outputs": [
    {
     "name": "stdout",
     "output_type": "stream",
     "text": [
      "\n",
      "[[85279    28]\n",
      " [   15   121]]\n",
      "\n",
      "              precision    recall  f1-score   support\n",
      "\n",
      "           0       1.00      1.00      1.00     85307\n",
      "           1       0.81      0.89      0.85       136\n",
      "\n",
      "    accuracy                           1.00     85443\n",
      "   macro avg       0.91      0.94      0.92     85443\n",
      "weighted avg       1.00      1.00      1.00     85443\n",
      "\n",
      "\n"
     ]
    },
    {
     "data": {
      "image/png": "[encoded data removed]",
      "text/plain": [
       "<Figure size 1152x324 with 3 Axes>"
      ]
     },
     "metadata": {
      "needs_background": "light"
     },
     "output_type": "display_data"
    },
    {
     "name": "stdout",
     "output_type": "stream",
     "text": [
      "Accuracy\t= 1.00\n",
      "Precision\t= 0.81\n",
      "Recall\t\t= 0.89\n",
      "F1 Score\t= 0.85\n",
      "\n"
     ]
    }
   ],
   "source": [
    "y_pred = clf.predict(X_test) # predict on test\n",
    "\n",
    "# evaluation outputs\n",
    "print()\n",
    "print(confusion_matrix(y_test, y_pred))\n",
    "print()\n",
    "print(classification_report(y_test, y_pred))\n",
    "print()\n",
    "plot_cmat_prc_roc(clf,X_test,y_test,'Composite 12 Significant Features')\n",
    "generate_model_report(y_test,y_pred)\n",
    "print()"
   ]
  },
  {
   "cell_type": "markdown",
   "metadata": {},
   "source": [
    "### Model with Combined Top 8"
   ]
  },
  {
   "cell_type": "code",
   "execution_count": 49,
   "metadata": {},
   "outputs": [
    {
     "data": {
      "text/html": [
       "<div>\n",
       "<style scoped>\n",
       "    .dataframe tbody tr th:only-of-type {\n",
       "        vertical-align: middle;\n",
       "    }\n",
       "\n",
       "    .dataframe tbody tr th {\n",
       "        vertical-align: top;\n",
       "    }\n",
       "\n",
       "    .dataframe thead th {\n",
       "        text-align: right;\n",
       "    }\n",
       "</style>\n",
       "<table border=\"1\" class=\"dataframe\">\n",
       "  <thead>\n",
       "    <tr style=\"text-align: right;\">\n",
       "      <th></th>\n",
       "      <th>V17</th>\n",
       "      <th>V12</th>\n",
       "      <th>V14</th>\n",
       "      <th>V10</th>\n",
       "      <th>V4</th>\n",
       "      <th>V3</th>\n",
       "      <th>V27</th>\n",
       "      <th>V11</th>\n",
       "    </tr>\n",
       "  </thead>\n",
       "  <tbody>\n",
       "    <tr>\n",
       "      <th>0</th>\n",
       "      <td>0.207971</td>\n",
       "      <td>-0.617801</td>\n",
       "      <td>-0.311169</td>\n",
       "      <td>0.090794</td>\n",
       "      <td>1.378155</td>\n",
       "      <td>2.536347</td>\n",
       "      <td>0.133558</td>\n",
       "      <td>-0.551600</td>\n",
       "    </tr>\n",
       "    <tr>\n",
       "      <th>1</th>\n",
       "      <td>-0.114805</td>\n",
       "      <td>1.065235</td>\n",
       "      <td>-0.143772</td>\n",
       "      <td>-0.166974</td>\n",
       "      <td>0.448154</td>\n",
       "      <td>0.166480</td>\n",
       "      <td>-0.008983</td>\n",
       "      <td>1.612727</td>\n",
       "    </tr>\n",
       "    <tr>\n",
       "      <th>2</th>\n",
       "      <td>1.109969</td>\n",
       "      <td>0.066084</td>\n",
       "      <td>-0.165946</td>\n",
       "      <td>0.207643</td>\n",
       "      <td>0.379780</td>\n",
       "      <td>1.773209</td>\n",
       "      <td>-0.055353</td>\n",
       "      <td>0.624501</td>\n",
       "    </tr>\n",
       "    <tr>\n",
       "      <th>3</th>\n",
       "      <td>-0.684093</td>\n",
       "      <td>0.178228</td>\n",
       "      <td>-0.287924</td>\n",
       "      <td>-0.054952</td>\n",
       "      <td>-0.863291</td>\n",
       "      <td>1.792993</td>\n",
       "      <td>0.062723</td>\n",
       "      <td>-0.226487</td>\n",
       "    </tr>\n",
       "    <tr>\n",
       "      <th>4</th>\n",
       "      <td>-0.237033</td>\n",
       "      <td>0.538196</td>\n",
       "      <td>-1.119670</td>\n",
       "      <td>0.753074</td>\n",
       "      <td>0.403034</td>\n",
       "      <td>1.548718</td>\n",
       "      <td>0.219422</td>\n",
       "      <td>-0.822843</td>\n",
       "    </tr>\n",
       "  </tbody>\n",
       "</table>\n",
       "</div>"
      ],
      "text/plain": [
       "        V17       V12       V14       V10        V4        V3       V27  \\\n",
       "0  0.207971 -0.617801 -0.311169  0.090794  1.378155  2.536347  0.133558   \n",
       "1 -0.114805  1.065235 -0.143772 -0.166974  0.448154  0.166480 -0.008983   \n",
       "2  1.109969  0.066084 -0.165946  0.207643  0.379780  1.773209 -0.055353   \n",
       "3 -0.684093  0.178228 -0.287924 -0.054952 -0.863291  1.792993  0.062723   \n",
       "4 -0.237033  0.538196 -1.119670  0.753074  0.403034  1.548718  0.219422   \n",
       "\n",
       "        V11  \n",
       "0 -0.551600  \n",
       "1  1.612727  \n",
       "2  0.624501  \n",
       "3 -0.226487  \n",
       "4 -0.822843  "
      ]
     },
     "execution_count": 49,
     "metadata": {},
     "output_type": "execute_result"
    }
   ],
   "source": [
    "top_eight = ['V17','V12','V14','V10','V4','V3','V27','V11'] # combines significant features from smote MDI, no resample MDI, Permutation Importance\n",
    "\n",
    "X_top_eight = X.loc[:,top_eight]\n",
    "X_top_eight.head()"
   ]
  },
  {
   "cell_type": "code",
   "execution_count": 50,
   "metadata": {},
   "outputs": [
    {
     "name": "stdout",
     "output_type": "stream",
     "text": [
      "Before fit: Counter({0: 199008, 1: 356})\n",
      "After fit: Counter({0: 199008, 1: 199008})\n"
     ]
    },
    {
     "data": {
      "image/png": "[encoded data removed]",
      "text/plain": [
       "<Figure size 864x432 with 2 Axes>"
      ]
     },
     "metadata": {
      "needs_background": "light"
     },
     "output_type": "display_data"
    }
   ],
   "source": [
    "# train/test split\n",
    "X_train, X_test, y_train, y_test = train_test_split(X_top_eight,y,train_size=0.7,random_state=random_state)     # setting training size of dataset to 70%\n",
    "\n",
    "# Synthetic Sample\n",
    "sm = SMOTE(random_state=random_state)\n",
    "X_train_sm, y_train_sm = sm.fit_resample(X_train,y_train)\n",
    "\n",
    "# printout counts\n",
    "print('Before fit: %s' % Counter(y_train))\n",
    "print('After fit: %s' % Counter(y_train_sm))\n",
    "\n",
    "smote_df = X_train_sm.copy()\n",
    "smote_df['Class'] = y_train_sm.copy()\n",
    "plot_feature_correlation_heatmap(smote_df,'SMOTE-Sampled Correlation Matrix',12,6)"
   ]
  },
  {
   "cell_type": "code",
   "execution_count": 51,
   "metadata": {},
   "outputs": [
    {
     "name": "stdout",
     "output_type": "stream",
     "text": [
      "Wall time: 21.7 s\n"
     ]
    },
    {
     "data": {
      "text/plain": [
       "RandomForestClassifier(n_jobs=-1, random_state=42)"
      ]
     },
     "execution_count": 51,
     "metadata": {},
     "output_type": "execute_result"
    }
   ],
   "source": [
    "%%time\n",
    "clf = RandomForestClassifier(random_state=random_state,n_jobs=-1)     # instantiate random forest classifier class object\n",
    "clf.fit(X_train_sm,y_train_sm) # fit model"
   ]
  },
  {
   "cell_type": "code",
   "execution_count": 52,
   "metadata": {},
   "outputs": [
    {
     "name": "stdout",
     "output_type": "stream",
     "text": [
      "\n",
      "[[85259    48]\n",
      " [   19   117]]\n",
      "\n",
      "              precision    recall  f1-score   support\n",
      "\n",
      "           0       1.00      1.00      1.00     85307\n",
      "           1       0.71      0.86      0.78       136\n",
      "\n",
      "    accuracy                           1.00     85443\n",
      "   macro avg       0.85      0.93      0.89     85443\n",
      "weighted avg       1.00      1.00      1.00     85443\n",
      "\n",
      "\n"
     ]
    },
    {
     "data": {
      "image/png": "[encoded data removed]",
      "text/plain": [
       "<Figure size 1152x324 with 3 Axes>"
      ]
     },
     "metadata": {
      "needs_background": "light"
     },
     "output_type": "display_data"
    },
    {
     "name": "stdout",
     "output_type": "stream",
     "text": [
      "Accuracy\t= 1.00\n",
      "Precision\t= 0.71\n",
      "Recall\t\t= 0.86\n",
      "F1 Score\t= 0.78\n",
      "\n"
     ]
    }
   ],
   "source": [
    "y_pred = clf.predict(X_test) # predict on test\n",
    "\n",
    "# evaluation outputs\n",
    "print()\n",
    "print(confusion_matrix(y_test, y_pred))\n",
    "print()\n",
    "print(classification_report(y_test, y_pred))\n",
    "print()\n",
    "plot_cmat_prc_roc(clf,X_test,y_test,'Composite 8 Significant Features')\n",
    "generate_model_report(y_test,y_pred)\n",
    "print()"
   ]
  },
  {
   "cell_type": "markdown",
   "metadata": {},
   "source": [
    "### Model with Combined Top 3"
   ]
  },
  {
   "cell_type": "code",
   "execution_count": 53,
   "metadata": {},
   "outputs": [
    {
     "data": {
      "text/html": [
       "<div>\n",
       "<style scoped>\n",
       "    .dataframe tbody tr th:only-of-type {\n",
       "        vertical-align: middle;\n",
       "    }\n",
       "\n",
       "    .dataframe tbody tr th {\n",
       "        vertical-align: top;\n",
       "    }\n",
       "\n",
       "    .dataframe thead th {\n",
       "        text-align: right;\n",
       "    }\n",
       "</style>\n",
       "<table border=\"1\" class=\"dataframe\">\n",
       "  <thead>\n",
       "    <tr style=\"text-align: right;\">\n",
       "      <th></th>\n",
       "      <th>V14</th>\n",
       "      <th>V12</th>\n",
       "      <th>V17</th>\n",
       "    </tr>\n",
       "  </thead>\n",
       "  <tbody>\n",
       "    <tr>\n",
       "      <th>0</th>\n",
       "      <td>-0.311169</td>\n",
       "      <td>-0.617801</td>\n",
       "      <td>0.207971</td>\n",
       "    </tr>\n",
       "    <tr>\n",
       "      <th>1</th>\n",
       "      <td>-0.143772</td>\n",
       "      <td>1.065235</td>\n",
       "      <td>-0.114805</td>\n",
       "    </tr>\n",
       "    <tr>\n",
       "      <th>2</th>\n",
       "      <td>-0.165946</td>\n",
       "      <td>0.066084</td>\n",
       "      <td>1.109969</td>\n",
       "    </tr>\n",
       "    <tr>\n",
       "      <th>3</th>\n",
       "      <td>-0.287924</td>\n",
       "      <td>0.178228</td>\n",
       "      <td>-0.684093</td>\n",
       "    </tr>\n",
       "    <tr>\n",
       "      <th>4</th>\n",
       "      <td>-1.119670</td>\n",
       "      <td>0.538196</td>\n",
       "      <td>-0.237033</td>\n",
       "    </tr>\n",
       "  </tbody>\n",
       "</table>\n",
       "</div>"
      ],
      "text/plain": [
       "        V14       V12       V17\n",
       "0 -0.311169 -0.617801  0.207971\n",
       "1 -0.143772  1.065235 -0.114805\n",
       "2 -0.165946  0.066084  1.109969\n",
       "3 -0.287924  0.178228 -0.684093\n",
       "4 -1.119670  0.538196 -0.237033"
      ]
     },
     "execution_count": 53,
     "metadata": {},
     "output_type": "execute_result"
    }
   ],
   "source": [
    "top_three = ['V14','V12','V17'] # combines significant features from smote MDI, no resample MDI, Permutation Importance\n",
    "\n",
    "X_top_three = X.loc[:,top_three]\n",
    "X_top_three.head()"
   ]
  },
  {
   "cell_type": "code",
   "execution_count": 54,
   "metadata": {},
   "outputs": [
    {
     "name": "stdout",
     "output_type": "stream",
     "text": [
      "Before fit: Counter({0: 199008, 1: 356})\n",
      "After fit: Counter({0: 199008, 1: 199008})\n"
     ]
    },
    {
     "data": {
      "image/png": "[encoded data removed]",
      "text/plain": [
       "<Figure size 864x432 with 2 Axes>"
      ]
     },
     "metadata": {
      "needs_background": "light"
     },
     "output_type": "display_data"
    }
   ],
   "source": [
    "# train/test split\n",
    "X_train, X_test, y_train, y_test = train_test_split(X_top_three,y,train_size=0.7,random_state=random_state)     # setting training size of dataset to 70%\n",
    "\n",
    "# Synthetic Sample\n",
    "sm = SMOTE(random_state=random_state)\n",
    "X_train_sm, y_train_sm = sm.fit_resample(X_train,y_train)\n",
    "\n",
    "# printout counts\n",
    "print('Before fit: %s' % Counter(y_train))\n",
    "print('After fit: %s' % Counter(y_train_sm))\n",
    "\n",
    "smote_df = X_train_sm.copy()\n",
    "smote_df['Class'] = y_train_sm.copy()\n",
    "plot_feature_correlation_heatmap(smote_df,'SMOTE-Sampled Correlation Matrix',12,6)"
   ]
  },
  {
   "cell_type": "code",
   "execution_count": 55,
   "metadata": {},
   "outputs": [
    {
     "name": "stdout",
     "output_type": "stream",
     "text": [
      "Wall time: 14 s\n"
     ]
    },
    {
     "data": {
      "text/plain": [
       "RandomForestClassifier(n_jobs=-1, random_state=42)"
      ]
     },
     "execution_count": 55,
     "metadata": {},
     "output_type": "execute_result"
    }
   ],
   "source": [
    "%%time\n",
    "clf = RandomForestClassifier(random_state=random_state,n_jobs=-1)     # instantiate random forest classifier class object\n",
    "clf.fit(X_train_sm,y_train_sm) # fit model"
   ]
  },
  {
   "cell_type": "code",
   "execution_count": 56,
   "metadata": {},
   "outputs": [
    {
     "name": "stdout",
     "output_type": "stream",
     "text": [
      "\n",
      "[[84675   632]\n",
      " [   18   118]]\n",
      "\n",
      "              precision    recall  f1-score   support\n",
      "\n",
      "           0       1.00      0.99      1.00     85307\n",
      "           1       0.16      0.87      0.27       136\n",
      "\n",
      "    accuracy                           0.99     85443\n",
      "   macro avg       0.58      0.93      0.63     85443\n",
      "weighted avg       1.00      0.99      1.00     85443\n",
      "\n",
      "\n"
     ]
    },
    {
     "data": {
      "image/png": "[encoded data removed]",
      "text/plain": [
       "<Figure size 1152x324 with 3 Axes>"
      ]
     },
     "metadata": {
      "needs_background": "light"
     },
     "output_type": "display_data"
    },
    {
     "name": "stdout",
     "output_type": "stream",
     "text": [
      "Accuracy\t= 0.99\n",
      "Precision\t= 0.16\n",
      "Recall\t\t= 0.87\n",
      "F1 Score\t= 0.27\n",
      "\n"
     ]
    }
   ],
   "source": [
    "y_pred = clf.predict(X_test) # predict on test\n",
    "\n",
    "# evaluation outputs\n",
    "print()\n",
    "print(confusion_matrix(y_test, y_pred))\n",
    "print()\n",
    "print(classification_report(y_test, y_pred))\n",
    "print()\n",
    "plot_cmat_prc_roc(clf,X_test,y_test,'Composite 3 Significant Features')\n",
    "generate_model_report(y_test,y_pred)\n",
    "print()"
   ]
  },
  {
   "cell_type": "markdown",
   "metadata": {},
   "source": [
    "### Model with Insignificant Bottom Half"
   ]
  },
  {
   "cell_type": "code",
   "execution_count": 57,
   "metadata": {},
   "outputs": [
    {
     "data": {
      "text/html": [
       "<div>\n",
       "<style scoped>\n",
       "    .dataframe tbody tr th:only-of-type {\n",
       "        vertical-align: middle;\n",
       "    }\n",
       "\n",
       "    .dataframe tbody tr th {\n",
       "        vertical-align: top;\n",
       "    }\n",
       "\n",
       "    .dataframe thead th {\n",
       "        text-align: right;\n",
       "    }\n",
       "</style>\n",
       "<table border=\"1\" class=\"dataframe\">\n",
       "  <thead>\n",
       "    <tr style=\"text-align: right;\">\n",
       "      <th></th>\n",
       "      <th>V24</th>\n",
       "      <th>V23</th>\n",
       "      <th>V22</th>\n",
       "      <th>V25</th>\n",
       "      <th>V13</th>\n",
       "      <th>V8</th>\n",
       "      <th>V28</th>\n",
       "      <th>Time_DayAware</th>\n",
       "      <th>V5</th>\n",
       "      <th>Amount</th>\n",
       "      <th>V27</th>\n",
       "      <th>V15</th>\n",
       "      <th>V20</th>\n",
       "      <th>V26</th>\n",
       "      <th>V1</th>\n",
       "    </tr>\n",
       "  </thead>\n",
       "  <tbody>\n",
       "    <tr>\n",
       "      <th>0</th>\n",
       "      <td>0.066928</td>\n",
       "      <td>-0.110474</td>\n",
       "      <td>0.277838</td>\n",
       "      <td>0.128539</td>\n",
       "      <td>-0.991390</td>\n",
       "      <td>0.098698</td>\n",
       "      <td>-0.021053</td>\n",
       "      <td>0.0</td>\n",
       "      <td>-0.338321</td>\n",
       "      <td>149.62</td>\n",
       "      <td>0.133558</td>\n",
       "      <td>1.468177</td>\n",
       "      <td>0.251412</td>\n",
       "      <td>-0.189115</td>\n",
       "      <td>-1.359807</td>\n",
       "    </tr>\n",
       "    <tr>\n",
       "      <th>1</th>\n",
       "      <td>-0.339846</td>\n",
       "      <td>0.101288</td>\n",
       "      <td>-0.638672</td>\n",
       "      <td>0.167170</td>\n",
       "      <td>0.489095</td>\n",
       "      <td>0.085102</td>\n",
       "      <td>0.014724</td>\n",
       "      <td>0.0</td>\n",
       "      <td>0.060018</td>\n",
       "      <td>2.69</td>\n",
       "      <td>-0.008983</td>\n",
       "      <td>0.635558</td>\n",
       "      <td>-0.069083</td>\n",
       "      <td>0.125895</td>\n",
       "      <td>1.191857</td>\n",
       "    </tr>\n",
       "    <tr>\n",
       "      <th>2</th>\n",
       "      <td>-0.689281</td>\n",
       "      <td>0.909412</td>\n",
       "      <td>0.771679</td>\n",
       "      <td>-0.327642</td>\n",
       "      <td>0.717293</td>\n",
       "      <td>0.247676</td>\n",
       "      <td>-0.059752</td>\n",
       "      <td>1.0</td>\n",
       "      <td>-0.503198</td>\n",
       "      <td>378.66</td>\n",
       "      <td>-0.055353</td>\n",
       "      <td>2.345865</td>\n",
       "      <td>0.524980</td>\n",
       "      <td>-0.139097</td>\n",
       "      <td>-1.358354</td>\n",
       "    </tr>\n",
       "    <tr>\n",
       "      <th>3</th>\n",
       "      <td>-1.175575</td>\n",
       "      <td>-0.190321</td>\n",
       "      <td>0.005274</td>\n",
       "      <td>0.647376</td>\n",
       "      <td>0.507757</td>\n",
       "      <td>0.377436</td>\n",
       "      <td>0.061458</td>\n",
       "      <td>1.0</td>\n",
       "      <td>-0.010309</td>\n",
       "      <td>123.50</td>\n",
       "      <td>0.062723</td>\n",
       "      <td>-0.631418</td>\n",
       "      <td>-0.208038</td>\n",
       "      <td>-0.221929</td>\n",
       "      <td>-0.966272</td>\n",
       "    </tr>\n",
       "    <tr>\n",
       "      <th>4</th>\n",
       "      <td>0.141267</td>\n",
       "      <td>-0.137458</td>\n",
       "      <td>0.798278</td>\n",
       "      <td>-0.206010</td>\n",
       "      <td>1.345852</td>\n",
       "      <td>-0.270533</td>\n",
       "      <td>0.215153</td>\n",
       "      <td>2.0</td>\n",
       "      <td>-0.407193</td>\n",
       "      <td>69.99</td>\n",
       "      <td>0.219422</td>\n",
       "      <td>0.175121</td>\n",
       "      <td>0.408542</td>\n",
       "      <td>0.502292</td>\n",
       "      <td>-1.158233</td>\n",
       "    </tr>\n",
       "  </tbody>\n",
       "</table>\n",
       "</div>"
      ],
      "text/plain": [
       "        V24       V23       V22       V25       V13        V8       V28  \\\n",
       "0  0.066928 -0.110474  0.277838  0.128539 -0.991390  0.098698 -0.021053   \n",
       "1 -0.339846  0.101288 -0.638672  0.167170  0.489095  0.085102  0.014724   \n",
       "2 -0.689281  0.909412  0.771679 -0.327642  0.717293  0.247676 -0.059752   \n",
       "3 -1.175575 -0.190321  0.005274  0.647376  0.507757  0.377436  0.061458   \n",
       "4  0.141267 -0.137458  0.798278 -0.206010  1.345852 -0.270533  0.215153   \n",
       "\n",
       "   Time_DayAware        V5  Amount       V27       V15       V20       V26  \\\n",
       "0            0.0 -0.338321  149.62  0.133558  1.468177  0.251412 -0.189115   \n",
       "1            0.0  0.060018    2.69 -0.008983  0.635558 -0.069083  0.125895   \n",
       "2            1.0 -0.503198  378.66 -0.055353  2.345865  0.524980 -0.139097   \n",
       "3            1.0 -0.010309  123.50  0.062723 -0.631418 -0.208038 -0.221929   \n",
       "4            2.0 -0.407193   69.99  0.219422  0.175121  0.408542  0.502292   \n",
       "\n",
       "         V1  \n",
       "0 -1.359807  \n",
       "1  1.191857  \n",
       "2 -1.358354  \n",
       "3 -0.966272  \n",
       "4 -1.158233  "
      ]
     },
     "execution_count": 57,
     "metadata": {},
     "output_type": "execute_result"
    }
   ],
   "source": [
    "bottom_half = ['V24','V23','V22','V25','V13','V8','V28','Time_DayAware','V5','Amount','V27','V15','V20','V26','V1'] # combines significant features from smote MDI, no resample MDI, Permutation Importance\n",
    "\n",
    "X_bottom_half = X.loc[:,bottom_half]\n",
    "X_bottom_half.head()"
   ]
  },
  {
   "cell_type": "code",
   "execution_count": 58,
   "metadata": {},
   "outputs": [
    {
     "name": "stdout",
     "output_type": "stream",
     "text": [
      "Before fit: Counter({0: 199008, 1: 356})\n",
      "After fit: Counter({0: 199008, 1: 199008})\n"
     ]
    },
    {
     "data": {
      "image/png": "[encoded data removed]",
      "text/plain": [
       "<Figure size 864x432 with 2 Axes>"
      ]
     },
     "metadata": {
      "needs_background": "light"
     },
     "output_type": "display_data"
    }
   ],
   "source": [
    "# train/test split\n",
    "X_train, X_test, y_train, y_test = train_test_split(X_bottom_half,y,train_size=0.7,random_state=random_state)     # setting training size of dataset to 70%\n",
    "\n",
    "# Synthetic Sample\n",
    "sm = SMOTE(random_state=random_state)\n",
    "X_train_sm, y_train_sm = sm.fit_resample(X_train,y_train)\n",
    "\n",
    "# printout counts\n",
    "print('Before fit: %s' % Counter(y_train))\n",
    "print('After fit: %s' % Counter(y_train_sm))\n",
    "\n",
    "smote_df = X_train_sm.copy()\n",
    "smote_df['Class'] = y_train_sm.copy()\n",
    "plot_feature_correlation_heatmap(smote_df,'SMOTE-Sampled Correlation Matrix',12,6)"
   ]
  },
  {
   "cell_type": "code",
   "execution_count": 59,
   "metadata": {},
   "outputs": [
    {
     "name": "stdout",
     "output_type": "stream",
     "text": [
      "Wall time: 37.9 s\n"
     ]
    },
    {
     "data": {
      "text/plain": [
       "RandomForestClassifier(n_jobs=-1, random_state=42)"
      ]
     },
     "execution_count": 59,
     "metadata": {},
     "output_type": "execute_result"
    }
   ],
   "source": [
    "%%time\n",
    "clf = RandomForestClassifier(random_state=random_state,n_jobs=-1)     # instantiate random forest classifier class object\n",
    "clf.fit(X_train_sm,y_train_sm) # fit model"
   ]
  },
  {
   "cell_type": "code",
   "execution_count": 60,
   "metadata": {},
   "outputs": [
    {
     "name": "stdout",
     "output_type": "stream",
     "text": [
      "\n",
      "[[85273    34]\n",
      " [   63    73]]\n",
      "\n",
      "              precision    recall  f1-score   support\n",
      "\n",
      "           0       1.00      1.00      1.00     85307\n",
      "           1       0.68      0.54      0.60       136\n",
      "\n",
      "    accuracy                           1.00     85443\n",
      "   macro avg       0.84      0.77      0.80     85443\n",
      "weighted avg       1.00      1.00      1.00     85443\n",
      "\n",
      "\n"
     ]
    },
    {
     "data": {
      "image/png": "[encoded data removed]",
      "text/plain": [
       "<Figure size 1152x324 with 3 Axes>"
      ]
     },
     "metadata": {
      "needs_background": "light"
     },
     "output_type": "display_data"
    },
    {
     "name": "stdout",
     "output_type": "stream",
     "text": [
      "Accuracy\t= 1.00\n",
      "Precision\t= 0.68\n",
      "Recall\t\t= 0.54\n",
      "F1 Score\t= 0.60\n",
      "\n"
     ]
    }
   ],
   "source": [
    "y_pred = clf.predict(X_test) # predict on test\n",
    "\n",
    "# evaluation outputs\n",
    "print()\n",
    "print(confusion_matrix(y_test, y_pred))\n",
    "print()\n",
    "print(classification_report(y_test, y_pred))\n",
    "print()\n",
    "plot_cmat_prc_roc(clf,X_test,y_test,'Bottom Half Significant Features')\n",
    "generate_model_report(y_test,y_pred)\n",
    "print()"
   ]
  }
 ],
 "metadata": {
  "kernelspec": {
   "display_name": "Python 3",
   "language": "python",
   "name": "python3"
  },
  "language_info": {
   "codemirror_mode": {
    "name": "ipython",
    "version": 3
   },
   "file_extension": ".py",
   "mimetype": "text/x-python",
   "name": "python",
   "nbconvert_exporter": "python",
   "pygments_lexer": "ipython3",
   "version": "3.8.8"
  }
 },
 "nbformat": 4,
 "nbformat_minor": 4
}
